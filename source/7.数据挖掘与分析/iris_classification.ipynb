{
 "cells": [
  {
   "cell_type": "code",
   "execution_count": 1,
   "metadata": {},
   "outputs": [
    {
     "data": {
      "text/plain": [
       "(150, 4)"
      ]
     },
     "execution_count": 1,
     "metadata": {},
     "output_type": "execute_result"
    }
   ],
   "source": [
    "from sklearn.datasets import load_iris\n",
    "iris = load_iris()\n",
    "iris.data.shape    #输出（150,4）"
   ]
  },
  {
   "cell_type": "code",
   "execution_count": 2,
   "metadata": {},
   "outputs": [
    {
     "data": {
      "text/html": [
       "<div>\n",
       "<style>\n",
       "    .dataframe thead tr:only-child th {\n",
       "        text-align: right;\n",
       "    }\n",
       "\n",
       "    .dataframe thead th {\n",
       "        text-align: left;\n",
       "    }\n",
       "\n",
       "    .dataframe tbody tr th {\n",
       "        vertical-align: top;\n",
       "    }\n",
       "</style>\n",
       "<table border=\"1\" class=\"dataframe\">\n",
       "  <thead>\n",
       "    <tr style=\"text-align: right;\">\n",
       "      <th></th>\n",
       "      <th>sepal length (cm)</th>\n",
       "      <th>sepal width (cm)</th>\n",
       "      <th>petal length (cm)</th>\n",
       "      <th>petal width (cm)</th>\n",
       "      <th>Species</th>\n",
       "    </tr>\n",
       "  </thead>\n",
       "  <tbody>\n",
       "    <tr>\n",
       "      <th>121</th>\n",
       "      <td>5.6</td>\n",
       "      <td>2.8</td>\n",
       "      <td>4.9</td>\n",
       "      <td>2.0</td>\n",
       "      <td>2</td>\n",
       "    </tr>\n",
       "    <tr>\n",
       "      <th>20</th>\n",
       "      <td>5.4</td>\n",
       "      <td>3.4</td>\n",
       "      <td>1.7</td>\n",
       "      <td>0.2</td>\n",
       "      <td>0</td>\n",
       "    </tr>\n",
       "    <tr>\n",
       "      <th>77</th>\n",
       "      <td>6.7</td>\n",
       "      <td>3.0</td>\n",
       "      <td>5.0</td>\n",
       "      <td>1.7</td>\n",
       "      <td>1</td>\n",
       "    </tr>\n",
       "    <tr>\n",
       "      <th>108</th>\n",
       "      <td>6.7</td>\n",
       "      <td>2.5</td>\n",
       "      <td>5.8</td>\n",
       "      <td>1.8</td>\n",
       "      <td>2</td>\n",
       "    </tr>\n",
       "    <tr>\n",
       "      <th>115</th>\n",
       "      <td>6.4</td>\n",
       "      <td>3.2</td>\n",
       "      <td>5.3</td>\n",
       "      <td>2.3</td>\n",
       "      <td>2</td>\n",
       "    </tr>\n",
       "    <tr>\n",
       "      <th>63</th>\n",
       "      <td>6.1</td>\n",
       "      <td>2.9</td>\n",
       "      <td>4.7</td>\n",
       "      <td>1.4</td>\n",
       "      <td>1</td>\n",
       "    </tr>\n",
       "    <tr>\n",
       "      <th>35</th>\n",
       "      <td>5.0</td>\n",
       "      <td>3.2</td>\n",
       "      <td>1.2</td>\n",
       "      <td>0.2</td>\n",
       "      <td>0</td>\n",
       "    </tr>\n",
       "  </tbody>\n",
       "</table>\n",
       "</div>"
      ],
      "text/plain": [
       "     sepal length (cm)  sepal width (cm)  petal length (cm)  petal width (cm)  \\\n",
       "121                5.6               2.8                4.9               2.0   \n",
       "20                 5.4               3.4                1.7               0.2   \n",
       "77                 6.7               3.0                5.0               1.7   \n",
       "108                6.7               2.5                5.8               1.8   \n",
       "115                6.4               3.2                5.3               2.3   \n",
       "63                 6.1               2.9                4.7               1.4   \n",
       "35                 5.0               3.2                1.2               0.2   \n",
       "\n",
       "     Species  \n",
       "121        2  \n",
       "20         0  \n",
       "77         1  \n",
       "108        2  \n",
       "115        2  \n",
       "63         1  \n",
       "35         0  "
      ]
     },
     "execution_count": 2,
     "metadata": {},
     "output_type": "execute_result"
    }
   ],
   "source": [
    "import pandas as pd\n",
    "df_iris = pd.DataFrame(iris.data)\n",
    "df_iris.columns = iris.feature_names\n",
    "df_iris['Species'] = iris.target\n",
    "df_iris.sample(7)"
   ]
  },
  {
   "cell_type": "code",
   "execution_count": 3,
   "metadata": {},
   "outputs": [
    {
     "data": {
      "text/html": [
       "<div>\n",
       "<style>\n",
       "    .dataframe thead tr:only-child th {\n",
       "        text-align: right;\n",
       "    }\n",
       "\n",
       "    .dataframe thead th {\n",
       "        text-align: left;\n",
       "    }\n",
       "\n",
       "    .dataframe tbody tr th {\n",
       "        vertical-align: top;\n",
       "    }\n",
       "</style>\n",
       "<table border=\"1\" class=\"dataframe\">\n",
       "  <thead>\n",
       "    <tr style=\"text-align: right;\">\n",
       "      <th></th>\n",
       "      <th>Total</th>\n",
       "      <th>Percent</th>\n",
       "    </tr>\n",
       "  </thead>\n",
       "  <tbody>\n",
       "    <tr>\n",
       "      <th>Species</th>\n",
       "      <td>0</td>\n",
       "      <td>0.0</td>\n",
       "    </tr>\n",
       "    <tr>\n",
       "      <th>petal width (cm)</th>\n",
       "      <td>0</td>\n",
       "      <td>0.0</td>\n",
       "    </tr>\n",
       "    <tr>\n",
       "      <th>petal length (cm)</th>\n",
       "      <td>0</td>\n",
       "      <td>0.0</td>\n",
       "    </tr>\n",
       "    <tr>\n",
       "      <th>sepal width (cm)</th>\n",
       "      <td>0</td>\n",
       "      <td>0.0</td>\n",
       "    </tr>\n",
       "    <tr>\n",
       "      <th>sepal length (cm)</th>\n",
       "      <td>0</td>\n",
       "      <td>0.0</td>\n",
       "    </tr>\n",
       "  </tbody>\n",
       "</table>\n",
       "</div>"
      ],
      "text/plain": [
       "                   Total  Percent\n",
       "Species                0      0.0\n",
       "petal width (cm)       0      0.0\n",
       "petal length (cm)      0      0.0\n",
       "sepal width (cm)       0      0.0\n",
       "sepal length (cm)      0      0.0"
      ]
     },
     "execution_count": 3,
     "metadata": {},
     "output_type": "execute_result"
    }
   ],
   "source": [
    "#查看各数据的缺失率\n",
    "def show_missing_data(df_iris):\n",
    "    missing_data_count = df_iris.isnull().sum()\n",
    "    total = missing_data_count.sort_values(ascending=False)\n",
    "    percent = (missing_data_count / df_iris.isnull().count()).sort_values(ascending=False)\n",
    "    missing_data = pd.concat([total, percent], axis=1, keys=['Total', 'Percent'])\n",
    "    return missing_data\n",
    "\n",
    "show_missing_data(df_iris)"
   ]
  },
  {
   "cell_type": "code",
   "execution_count": 4,
   "metadata": {},
   "outputs": [
    {
     "name": "stdout",
     "output_type": "stream",
     "text": [
      "<class 'pandas.core.frame.DataFrame'>\n",
      "RangeIndex: 150 entries, 0 to 149\n",
      "Data columns (total 5 columns):\n",
      "sepal length (cm)    150 non-null float64\n",
      "sepal width (cm)     150 non-null float64\n",
      "petal length (cm)    150 non-null float64\n",
      "petal width (cm)     150 non-null float64\n",
      "Species              150 non-null int32\n",
      "dtypes: float64(4), int32(1)\n",
      "memory usage: 5.4 KB\n"
     ]
    }
   ],
   "source": [
    "#简单的查看缺失情况的方法\n",
    "df_iris.info()"
   ]
  },
  {
   "cell_type": "code",
   "execution_count": 5,
   "metadata": {},
   "outputs": [],
   "source": [
    "#将数据分为训练集与测试集\n",
    "from sklearn.model_selection import train_test_split\n",
    "features = df_iris[df_iris.loc[:,df_iris.columns!='Species'].columns] #提取特征\n",
    "target = df_iris['Species'] #提取目标特征\n",
    "x_train, x_test, y_train, y_test = train_test_split(features, target, test_size=0.3, random_state=33)\n"
   ]
  },
  {
   "cell_type": "code",
   "execution_count": 7,
   "metadata": {},
   "outputs": [
    {
     "name": "stdout",
     "output_type": "stream",
     "text": [
      "(105, 4)\n"
     ]
    },
    {
     "data": {
      "text/html": [
       "<div>\n",
       "<style>\n",
       "    .dataframe thead tr:only-child th {\n",
       "        text-align: right;\n",
       "    }\n",
       "\n",
       "    .dataframe thead th {\n",
       "        text-align: left;\n",
       "    }\n",
       "\n",
       "    .dataframe tbody tr th {\n",
       "        vertical-align: top;\n",
       "    }\n",
       "</style>\n",
       "<table border=\"1\" class=\"dataframe\">\n",
       "  <thead>\n",
       "    <tr style=\"text-align: right;\">\n",
       "      <th></th>\n",
       "      <th>sepal length (cm)</th>\n",
       "      <th>sepal width (cm)</th>\n",
       "      <th>petal length (cm)</th>\n",
       "      <th>petal width (cm)</th>\n",
       "    </tr>\n",
       "  </thead>\n",
       "  <tbody>\n",
       "    <tr>\n",
       "      <th>98</th>\n",
       "      <td>5.1</td>\n",
       "      <td>2.5</td>\n",
       "      <td>3.0</td>\n",
       "      <td>1.1</td>\n",
       "    </tr>\n",
       "    <tr>\n",
       "      <th>11</th>\n",
       "      <td>4.8</td>\n",
       "      <td>3.4</td>\n",
       "      <td>1.6</td>\n",
       "      <td>0.2</td>\n",
       "    </tr>\n",
       "    <tr>\n",
       "      <th>131</th>\n",
       "      <td>7.9</td>\n",
       "      <td>3.8</td>\n",
       "      <td>6.4</td>\n",
       "      <td>2.0</td>\n",
       "    </tr>\n",
       "    <tr>\n",
       "      <th>39</th>\n",
       "      <td>5.1</td>\n",
       "      <td>3.4</td>\n",
       "      <td>1.5</td>\n",
       "      <td>0.2</td>\n",
       "    </tr>\n",
       "    <tr>\n",
       "      <th>21</th>\n",
       "      <td>5.1</td>\n",
       "      <td>3.7</td>\n",
       "      <td>1.5</td>\n",
       "      <td>0.4</td>\n",
       "    </tr>\n",
       "  </tbody>\n",
       "</table>\n",
       "</div>"
      ],
      "text/plain": [
       "     sepal length (cm)  sepal width (cm)  petal length (cm)  petal width (cm)\n",
       "98                 5.1               2.5                3.0               1.1\n",
       "11                 4.8               3.4                1.6               0.2\n",
       "131                7.9               3.8                6.4               2.0\n",
       "39                 5.1               3.4                1.5               0.2\n",
       "21                 5.1               3.7                1.5               0.4"
      ]
     },
     "execution_count": 7,
     "metadata": {},
     "output_type": "execute_result"
    }
   ],
   "source": [
    "print(x_train.shape) #输出（105,4）\n",
    "x_train.head()"
   ]
  },
  {
   "cell_type": "code",
   "execution_count": 8,
   "metadata": {},
   "outputs": [
    {
     "name": "stdout",
     "output_type": "stream",
     "text": [
      "             precision    recall  f1-score   support\n",
      "\n",
      "     setosa       1.00      1.00      1.00        11\n",
      " versicolor       0.86      0.80      0.83        15\n",
      "  virginica       0.85      0.89      0.87        19\n",
      "\n",
      "avg / total       0.89      0.89      0.89        45\n",
      "\n"
     ]
    }
   ],
   "source": [
    "#逻辑回归模型\n",
    "from sklearn.linear_model import LogisticRegression #从sklearn中引入逻辑回归\n",
    "from sklearn.preprocessing import StandardScaler # 引入StandardScaler进行标准化处理\n",
    "#分别对训练和测试数据进行标准化\n",
    "ss = StandardScaler() \n",
    "x_train = ss.fit_transform(x_train)\n",
    "x_test = ss.transform(x_test)\n",
    "#使用逻辑回归分类器对测试集进行预测，预测结果保存到y_pred中\n",
    "lr = LogisticRegression() #进行初始化\n",
    "lr.fit(x_train, y_train) #进行训练\n",
    "y_pred = lr.predict(x_test) #进行预测\n",
    "\n",
    "from sklearn.metrics import classification_report\n",
    "print(classification_report(y_test,y_pred,target_names=iris.target_names)) \n"
   ]
  },
  {
   "cell_type": "code",
   "execution_count": 24,
   "metadata": {},
   "outputs": [
    {
     "name": "stdout",
     "output_type": "stream",
     "text": [
      "             precision    recall  f1-score   support\n",
      "\n",
      "     setosa       1.00      1.00      1.00        11\n",
      " versicolor       0.86      0.80      0.83        15\n",
      "  virginica       0.85      0.89      0.87        19\n",
      "\n",
      "avg / total       0.89      0.89      0.89        45\n",
      "\n"
     ]
    }
   ],
   "source": [
    "#逻辑回归模型\n",
    "from sklearn.linear_model import LogisticRegression #从sklearn中引入逻辑回归\n",
    "\n",
    "lr = LogisticRegression() #进行初始化\n",
    "lr.fit(x_train, y_train) #进行训练\n",
    "y_pred = lr.predict(x_test) #进行预测\n",
    "\n",
    "from sklearn.metrics import classification_report,accuracy_score\n",
    "acc_lr = accuracy_score(y_test, y_pred)\n",
    "print(classification_report(y_test,y_pred,target_names=iris.target_names)) "
   ]
  },
  {
   "cell_type": "code",
   "execution_count": 11,
   "metadata": {},
   "outputs": [
    {
     "name": "stdout",
     "output_type": "stream",
     "text": [
      "             precision    recall  f1-score   support\n",
      "\n",
      "     setosa       1.00      1.00      1.00        11\n",
      " versicolor       0.88      1.00      0.94        15\n",
      "  virginica       1.00      0.89      0.94        19\n",
      "\n",
      "avg / total       0.96      0.96      0.96        45\n",
      "\n"
     ]
    }
   ],
   "source": [
    "#支持向量机模型\n",
    "from sklearn.svm import SVC, LinearSVC\n",
    "\n",
    "svc = SVC(C=1e5)\n",
    "svc.fit(x_train, y_train)\n",
    "y_pred = svc.predict(x_test)\n",
    "\n",
    "from sklearn.metrics import classification_report,accuracy_score\n",
    "acc_svc = accuracy_score(y_test, y_pred)\n",
    "print(classification_report(y_test,y_pred,target_names=iris.target_names)) "
   ]
  },
  {
   "cell_type": "code",
   "execution_count": 13,
   "metadata": {},
   "outputs": [
    {
     "name": "stdout",
     "output_type": "stream",
     "text": [
      "             precision    recall  f1-score   support\n",
      "\n",
      "     setosa       1.00      1.00      1.00        11\n",
      " versicolor       0.88      1.00      0.94        15\n",
      "  virginica       1.00      0.89      0.94        19\n",
      "\n",
      "avg / total       0.96      0.96      0.96        45\n",
      "\n"
     ]
    }
   ],
   "source": [
    "#朴素贝叶斯\n",
    "from sklearn.naive_bayes import GaussianNB\n",
    "\n",
    "gaussian = GaussianNB()\n",
    "gaussian.fit(x_train, y_train)\n",
    "y_pred = gaussian.predict(x_test)\n",
    "\n",
    "from sklearn.metrics import classification_report,accuracy_score\n",
    "acc_gaussian = accuracy_score(y_test, y_pred)\n",
    "print(classification_report(y_test,y_pred,target_names=iris.target_names)) "
   ]
  },
  {
   "cell_type": "code",
   "execution_count": 14,
   "metadata": {},
   "outputs": [
    {
     "name": "stdout",
     "output_type": "stream",
     "text": [
      "             precision    recall  f1-score   support\n",
      "\n",
      "     setosa       1.00      1.00      1.00        11\n",
      " versicolor       0.79      1.00      0.88        15\n",
      "  virginica       1.00      0.79      0.88        19\n",
      "\n",
      "avg / total       0.93      0.91      0.91        45\n",
      "\n"
     ]
    }
   ],
   "source": [
    "#决策树\n",
    "from sklearn.tree import DecisionTreeClassifier\n",
    "\n",
    "decision_tree = DecisionTreeClassifier()\n",
    "decision_tree.fit(x_train, y_train)\n",
    "y_pred = decision_tree.predict(x_test)\n",
    "\n",
    "from sklearn.metrics import classification_report,accuracy_score\n",
    "acc_decision_tree = accuracy_score(y_test, y_pred)\n",
    "print(classification_report(y_test,y_pred,target_names=iris.target_names)) "
   ]
  },
  {
   "cell_type": "code",
   "execution_count": 15,
   "metadata": {},
   "outputs": [
    {
     "name": "stdout",
     "output_type": "stream",
     "text": [
      "             precision    recall  f1-score   support\n",
      "\n",
      "     setosa       1.00      1.00      1.00        11\n",
      " versicolor       0.83      1.00      0.91        15\n",
      "  virginica       1.00      0.84      0.91        19\n",
      "\n",
      "avg / total       0.94      0.93      0.93        45\n",
      "\n"
     ]
    }
   ],
   "source": [
    "#K近邻分类器\n",
    "from sklearn.neighbors import KNeighborsClassifier\n",
    "\n",
    "knn = KNeighborsClassifier(n_neighbors = 7)\n",
    "knn.fit(x_train, y_train)\n",
    "y_pred = knn.predict(x_test)\n",
    "\n",
    "from sklearn.metrics import classification_report,accuracy_score\n",
    "acc_knn = accuracy_score(y_test, y_pred)\n",
    "print(classification_report(y_test,y_pred,target_names=iris.target_names))"
   ]
  },
  {
   "cell_type": "code",
   "execution_count": 21,
   "metadata": {},
   "outputs": [
    {
     "name": "stdout",
     "output_type": "stream",
     "text": [
      "             precision    recall  f1-score   support\n",
      "\n",
      "     setosa       1.00      1.00      1.00        11\n",
      " versicolor       0.82      0.93      0.87        15\n",
      "  virginica       0.94      0.84      0.89        19\n",
      "\n",
      "avg / total       0.92      0.91      0.91        45\n",
      "\n"
     ]
    }
   ],
   "source": [
    "#梯度下降分类法\n",
    "from sklearn.linear_model import SGDClassifier\n",
    "\n",
    "sgd = SGDClassifier(tol=1e-3) #默认random_state = None，所以每次运行结果会有不同\n",
    "sgd.fit(x_train, y_train)\n",
    "y_pred = sgd.predict(x_test)\n",
    "\n",
    "from sklearn.metrics import classification_report,accuracy_score\n",
    "acc_sgd = accuracy_score(y_test, y_pred)\n",
    "print(classification_report(y_test,y_pred,target_names=iris.target_names))"
   ]
  },
  {
   "cell_type": "code",
   "execution_count": 22,
   "metadata": {
    "scrolled": true
   },
   "outputs": [
    {
     "name": "stdout",
     "output_type": "stream",
     "text": [
      "             precision    recall  f1-score   support\n",
      "\n",
      "     setosa       1.00      1.00      1.00        11\n",
      " versicolor       0.88      1.00      0.94        15\n",
      "  virginica       1.00      0.89      0.94        19\n",
      "\n",
      "avg / total       0.96      0.96      0.96        45\n",
      "\n"
     ]
    }
   ],
   "source": [
    "#随机森林\n",
    "from sklearn.ensemble import RandomForestClassifier\n",
    "\n",
    "random_forest = RandomForestClassifier(n_estimators=100)\n",
    "random_forest.fit(x_train, y_train)\n",
    "y_pred = random_forest.predict(x_test)\n",
    "\n",
    "\n",
    "from sklearn.metrics import classification_report,accuracy_score\n",
    "acc_random_forest = accuracy_score(y_test, y_pred)\n",
    "print(classification_report(y_test,y_pred,target_names=iris.target_names))"
   ]
  },
  {
   "cell_type": "code",
   "execution_count": 25,
   "metadata": {},
   "outputs": [
    {
     "data": {
      "text/html": [
       "<div>\n",
       "<style>\n",
       "    .dataframe thead tr:only-child th {\n",
       "        text-align: right;\n",
       "    }\n",
       "\n",
       "    .dataframe thead th {\n",
       "        text-align: left;\n",
       "    }\n",
       "\n",
       "    .dataframe tbody tr th {\n",
       "        vertical-align: top;\n",
       "    }\n",
       "</style>\n",
       "<table border=\"1\" class=\"dataframe\">\n",
       "  <thead>\n",
       "    <tr style=\"text-align: right;\">\n",
       "      <th></th>\n",
       "      <th>Accuracy</th>\n",
       "      <th>Model</th>\n",
       "    </tr>\n",
       "  </thead>\n",
       "  <tbody>\n",
       "    <tr>\n",
       "      <th>1</th>\n",
       "      <td>0.955556</td>\n",
       "      <td>Support Vector Machines</td>\n",
       "    </tr>\n",
       "    <tr>\n",
       "      <th>3</th>\n",
       "      <td>0.955556</td>\n",
       "      <td>Naive Bayes</td>\n",
       "    </tr>\n",
       "    <tr>\n",
       "      <th>5</th>\n",
       "      <td>0.955556</td>\n",
       "      <td>RandomForestClassifier</td>\n",
       "    </tr>\n",
       "    <tr>\n",
       "      <th>2</th>\n",
       "      <td>0.933333</td>\n",
       "      <td>KNN</td>\n",
       "    </tr>\n",
       "    <tr>\n",
       "      <th>4</th>\n",
       "      <td>0.911111</td>\n",
       "      <td>Decision Tree</td>\n",
       "    </tr>\n",
       "    <tr>\n",
       "      <th>6</th>\n",
       "      <td>0.911111</td>\n",
       "      <td>SGDClassifier</td>\n",
       "    </tr>\n",
       "    <tr>\n",
       "      <th>0</th>\n",
       "      <td>0.888889</td>\n",
       "      <td>Logistic Regression</td>\n",
       "    </tr>\n",
       "  </tbody>\n",
       "</table>\n",
       "</div>"
      ],
      "text/plain": [
       "   Accuracy                    Model\n",
       "1  0.955556  Support Vector Machines\n",
       "3  0.955556              Naive Bayes\n",
       "5  0.955556   RandomForestClassifier\n",
       "2  0.933333                      KNN\n",
       "4  0.911111            Decision Tree\n",
       "6  0.911111            SGDClassifier\n",
       "0  0.888889      Logistic Regression"
      ]
     },
     "execution_count": 25,
     "metadata": {},
     "output_type": "execute_result"
    }
   ],
   "source": [
    "models = pd.DataFrame({\n",
    "    'Model': [ 'Logistic Regression', 'Support Vector Machines', 'KNN', \n",
    "               'Naive Bayes','Decision Tree', 'RandomForestClassifier', 'SGDClassifier'],\n",
    "    'Accuracy': [acc_lr, acc_svc, acc_knn, acc_gaussian, acc_decision_tree, acc_random_forest, acc_sgd]})\n",
    "models.sort_values(by='Accuracy', ascending=False)"
   ]
  },
  {
   "cell_type": "code",
   "execution_count": 27,
   "metadata": {},
   "outputs": [
    {
     "ename": "ValueError",
     "evalue": "Data is not binary and pos_label is not specified",
     "output_type": "error",
     "traceback": [
      "\u001b[1;31m---------------------------------------------------------------------------\u001b[0m",
      "\u001b[1;31mValueError\u001b[0m                                Traceback (most recent call last)",
      "\u001b[1;32m<ipython-input-27-d2c1d4f8f5c4>\u001b[0m in \u001b[0;36m<module>\u001b[1;34m()\u001b[0m\n\u001b[0;32m      5\u001b[0m \u001b[1;33m\u001b[0m\u001b[0m\n\u001b[0;32m      6\u001b[0m \u001b[0mlr_y_proba\u001b[0m\u001b[1;33m=\u001b[0m\u001b[0mlr\u001b[0m\u001b[1;33m.\u001b[0m\u001b[0mpredict_proba\u001b[0m\u001b[1;33m(\u001b[0m\u001b[0mx_test\u001b[0m\u001b[1;33m)\u001b[0m\u001b[1;33m\u001b[0m\u001b[0m\n\u001b[1;32m----> 7\u001b[1;33m \u001b[0mlr_fpr\u001b[0m\u001b[1;33m,\u001b[0m\u001b[0mlr_tpr\u001b[0m\u001b[1;33m,\u001b[0m\u001b[0mlr_threasholds\u001b[0m\u001b[1;33m=\u001b[0m\u001b[0mroc_curve\u001b[0m\u001b[1;33m(\u001b[0m\u001b[0my_test\u001b[0m\u001b[1;33m,\u001b[0m\u001b[0mlr_y_proba\u001b[0m\u001b[1;33m[\u001b[0m\u001b[1;33m:\u001b[0m\u001b[1;33m,\u001b[0m\u001b[1;36m1\u001b[0m\u001b[1;33m]\u001b[0m\u001b[1;33m)\u001b[0m\u001b[1;33m\u001b[0m\u001b[0m\n\u001b[0m\u001b[0;32m      8\u001b[0m \u001b[0mlr_roc_auc\u001b[0m \u001b[1;33m=\u001b[0m \u001b[0mauc\u001b[0m\u001b[1;33m(\u001b[0m\u001b[0mlr_fpr\u001b[0m\u001b[1;33m,\u001b[0m\u001b[0mlr_tpr\u001b[0m\u001b[1;33m)\u001b[0m\u001b[1;33m\u001b[0m\u001b[0m\n\u001b[0;32m      9\u001b[0m \u001b[1;33m\u001b[0m\u001b[0m\n",
      "\u001b[1;32mc:\\python36\\lib\\site-packages\\sklearn\\metrics\\ranking.py\u001b[0m in \u001b[0;36mroc_curve\u001b[1;34m(y_true, y_score, pos_label, sample_weight, drop_intermediate)\u001b[0m\n\u001b[0;32m    508\u001b[0m     \"\"\"\n\u001b[0;32m    509\u001b[0m     fps, tps, thresholds = _binary_clf_curve(\n\u001b[1;32m--> 510\u001b[1;33m         y_true, y_score, pos_label=pos_label, sample_weight=sample_weight)\n\u001b[0m\u001b[0;32m    511\u001b[0m \u001b[1;33m\u001b[0m\u001b[0m\n\u001b[0;32m    512\u001b[0m     \u001b[1;31m# Attempt to drop thresholds corresponding to points in between and\u001b[0m\u001b[1;33m\u001b[0m\u001b[1;33m\u001b[0m\u001b[0m\n",
      "\u001b[1;32mc:\\python36\\lib\\site-packages\\sklearn\\metrics\\ranking.py\u001b[0m in \u001b[0;36m_binary_clf_curve\u001b[1;34m(y_true, y_score, pos_label, sample_weight)\u001b[0m\n\u001b[0;32m    317\u001b[0m              \u001b[0mnp\u001b[0m\u001b[1;33m.\u001b[0m\u001b[0marray_equal\u001b[0m\u001b[1;33m(\u001b[0m\u001b[0mclasses\u001b[0m\u001b[1;33m,\u001b[0m \u001b[1;33m[\u001b[0m\u001b[1;33m-\u001b[0m\u001b[1;36m1\u001b[0m\u001b[1;33m]\u001b[0m\u001b[1;33m)\u001b[0m \u001b[1;32mor\u001b[0m\u001b[1;33m\u001b[0m\u001b[0m\n\u001b[0;32m    318\u001b[0m              np.array_equal(classes, [1]))):\n\u001b[1;32m--> 319\u001b[1;33m         \u001b[1;32mraise\u001b[0m \u001b[0mValueError\u001b[0m\u001b[1;33m(\u001b[0m\u001b[1;34m\"Data is not binary and pos_label is not specified\"\u001b[0m\u001b[1;33m)\u001b[0m\u001b[1;33m\u001b[0m\u001b[0m\n\u001b[0m\u001b[0;32m    320\u001b[0m     \u001b[1;32melif\u001b[0m \u001b[0mpos_label\u001b[0m \u001b[1;32mis\u001b[0m \u001b[1;32mNone\u001b[0m\u001b[1;33m:\u001b[0m\u001b[1;33m\u001b[0m\u001b[0m\n\u001b[0;32m    321\u001b[0m         \u001b[0mpos_label\u001b[0m \u001b[1;33m=\u001b[0m \u001b[1;36m1.\u001b[0m\u001b[1;33m\u001b[0m\u001b[0m\n",
      "\u001b[1;31mValueError\u001b[0m: Data is not binary and pos_label is not specified"
     ]
    }
   ],
   "source": [
    "import numpy as np\n",
    "import matplotlib.pyplot as plt\n",
    "from sklearn.metrics import roc_curve, auc  ###计算roc和auc\n",
    "%matplotlib inline\n",
    "\n",
    "lr_y_proba=lr.predict_proba(x_test)\n",
    "lr_fpr,lr_tpr,lr_threasholds=roc_curve(y_test,lr_y_proba[:,1])\n",
    "lr_roc_auc = auc(lr_fpr,lr_tpr)\n",
    "\n",
    "svc_y_proba=svc.predict_proba(x_test)\n",
    "svc_fpr,svc_tpr,svc_threasholds=roc_curve(y_test,svc_y_proba[:,1])\n",
    "svc_roc_auc = auc(svc_fpr,svc_tpr)\n",
    "\n",
    "knn_y_proba=knn.predict_proba(x_test)\n",
    "knn_fpr,knn_tpr,knn_threasholds=roc_curve(y_test,knn_y_proba[:,1])\n",
    "knn_roc_auc = auc(knn_fpr,knn_tpr)\n",
    "\n",
    "gnb_y_proba=gnb.predict_proba(x_test)\n",
    "gnb_fpr,gnb_tpr,gnb_threasholds=roc_curve(y_test,gnb_y_proba[:,1])\n",
    "gnb_roc_auc = auc(gnb_fpr,gnb_tpr)\n",
    "\n",
    "dt_y_proba=decision_tree.predict_proba(x_test)\n",
    "dt_fpr,dt_tpr,dt_threasholds=roc_curve(y_test,dt_y_proba[:,1])\n",
    "dt_roc_auc = auc(dt_fpr,dt_tpr)\n",
    "\n",
    "rfc_y_proba=rfc.predict_proba(x_test)\n",
    "rfc_fpr,rfc_tpr,rfc_threasholds=roc_curve(y_test,rfc_y_proba[:,1])\n",
    "rfc_roc_auc = auc(rfc_fpr,rfc_tpr)\n",
    "\n",
    "sgd_y_proba=sgd.predict_proba(x_test)\n",
    "sgd_fpr,sgd_tpr,sgd_threasholds=roc_curve(y_test,sgd_y_proba[:,1])\n",
    "sgd_roc_auc = auc(sgd_fpr,sgd_tpr)\n",
    "\n",
    "plt.figure()\n",
    "lw = 2\n",
    "plt.figure(figsize=(10,10))\n",
    "\n",
    "plt.plot(lr_fpr, lr_tpr, color='red',\n",
    "         lw=lw, label='ROC curve-lr (area = %0.2f)' % lr_roc_auc) ###假正率为横坐标，真正率为纵坐标做曲线\n",
    "\n",
    "plt.plot(svc_fpr, svc_tpr, color='darkorange',\n",
    "         lw=lw, label='ROC curve-svc (area = %0.2f)' % svc_roc_auc) \n",
    "\n",
    "plt.plot(knn_fpr, knn_tpr, color='aqua',\n",
    "         lw=lw, label='ROC curve-knn (area = %0.2f)' % knn_roc_auc) \n",
    "\n",
    "plt.plot(gnb_fpr, gnb_tpr, color='burlywood',\n",
    "         lw=lw, label='ROC curve-gnb (area = %0.2f)' % gnb_roc_auc) \n",
    "\n",
    "plt.plot(dt_fpr, dt_tpr, color='coral',\n",
    "         lw=lw, label='ROC curve-dt (area = %0.2f)' % dt_roc_auc) \n",
    "\n",
    "plt.plot(rfc_fpr, rfc_tpr, color='darkgreen',\n",
    "         lw=lw, label='ROC curve-rfc (area = %0.2f)' % rfc_roc_auc) \n",
    "\n",
    "plt.plot(sgd_fpr, sgd_tpr, color='black',\n",
    "         lw=lw, label='ROC curve-sgd (area = %0.2f)' % sgd_roc_auc) \n",
    "\n",
    "plt.plot([0, 1], [0, 1], color='navy', lw=lw, linestyle='--')\n",
    "plt.xlim([0.0, 1.0])\n",
    "plt.ylim([0.0, 1.05])\n",
    "plt.xlabel('False Positive Rate')\n",
    "plt.ylabel('True Positive Rate')\n",
    "# plt.title('Receiver operating characteristic example')\n",
    "plt.legend(loc=\"lower right\")\n",
    "plt.show()\n"
   ]
  },
  {
   "cell_type": "code",
   "execution_count": null,
   "metadata": {},
   "outputs": [],
   "source": []
  }
 ],
 "metadata": {
  "kernelspec": {
   "display_name": "Python 3",
   "language": "python",
   "name": "python3"
  },
  "language_info": {
   "codemirror_mode": {
    "name": "ipython",
    "version": 3
   },
   "file_extension": ".py",
   "mimetype": "text/x-python",
   "name": "python",
   "nbconvert_exporter": "python",
   "pygments_lexer": "ipython3",
   "version": "3.6.2"
  }
 },
 "nbformat": 4,
 "nbformat_minor": 2
}
