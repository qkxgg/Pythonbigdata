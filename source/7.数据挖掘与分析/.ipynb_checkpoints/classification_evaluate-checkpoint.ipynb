{
 "cells": [
  {
   "cell_type": "code",
   "execution_count": 1,
   "metadata": {},
   "outputs": [
    {
     "data": {
      "text/plain": [
       "array([[2, 0, 0],\n",
       "       [0, 0, 1],\n",
       "       [1, 0, 2]], dtype=int64)"
      ]
     },
     "execution_count": 1,
     "metadata": {},
     "output_type": "execute_result"
    }
   ],
   "source": [
    "#混淆矩阵\n",
    "from sklearn.metrics import confusion_matrix\n",
    "y_true = [2, 0, 2, 2, 0, 1]\n",
    "y_pred = [0, 0, 2, 2, 0, 2]\n",
    "confusion_matrix(y_true, y_pred)"
   ]
  },
  {
   "cell_type": "code",
   "execution_count": 20,
   "metadata": {},
   "outputs": [
    {
     "name": "stdout",
     "output_type": "stream",
     "text": [
      "[[3 1]\n",
      " [2 2]]\n",
      "accuracy:\t 0.625\n",
      "precision:\t 0.666666666667\n",
      "recall:\t\t 0.5\n",
      "f1_score:\t 0.571428571429\n"
     ]
    }
   ],
   "source": [
    "#准确率、精确率、召回率和F1\n",
    "from sklearn.metrics import confusion_matrix\n",
    "from sklearn.metrics import accuracy_score,precision_score,recall_score,f1_score\n",
    "\n",
    "y_true =[0,1,0,0,1,1,0,1]\n",
    "y_pred =[0,0,1,0,1,0,0,1]\n",
    "print(confusion_matrix(y_true,y_pred))\n",
    "\n",
    "print(\"accuracy:\\t\",accuracy_score(y_true, y_pred))\n",
    "print(\"precision:\\t\",precision_score(y_true, y_pred))\n",
    "print(\"recall:\\t\\t\",recall_score(y_true, y_pred))\n",
    "print(\"f1_score:\\t\",f1_score(y_true,y_pred))\n"
   ]
  },
  {
   "cell_type": "code",
   "execution_count": 21,
   "metadata": {},
   "outputs": [
    {
     "name": "stdout",
     "output_type": "stream",
     "text": [
      "[[1 1 0]\n",
      " [0 0 1]\n",
      " [1 0 2]]\n",
      "accuracy:\t 0.5\n",
      "precision:\t [ 0.5         0.          0.66666667]\n",
      "recall:\t\t [ 0.5         0.          0.66666667]\n",
      "f1_score:\t [ 0.5         0.          0.66666667]\n"
     ]
    }
   ],
   "source": [
    "#多分类问题的准确率、精确率、召回率和F1\n",
    "from sklearn.metrics import confusion_matrix\n",
    "from sklearn.metrics import accuracy_score,precision_score,recall_score,f1_score\n",
    "\n",
    "y_true = [2, 0, 2, 2, 0, 1]\n",
    "y_pred = [0, 1, 2, 2, 0, 2]\n",
    "print(confusion_matrix(y_true,y_pred))\n",
    "\n",
    "print(\"accuracy:\\t\",accuracy_score(y_true, y_pred))\n",
    "\n",
    "def score_with_avgtype(avgtype):\n",
    "    print(\"\\nAverage type is \",avgtype)\n",
    "    print(\"precision:\\t\",precision_score(y_true, y_pred, average=avgtype))\n",
    "    print(\"recall:\\t\\t\",recall_score(y_true, y_pred, average=avgtype))\n",
    "    print(\"f1_score:\\t\",f1_score(y_true,y_pred, average=avgtype))\n",
    "    \n",
    "#average类型为None\n",
    "score_with_avgtype(None)\n",
    "score_with_avgtype('micro')\n",
    "score_with_avgtype('macro')\n",
    "score_with_avgtype('samples')\n",
    "score_with_avgtype('weighted')\n"
   ]
  },
  {
   "cell_type": "code",
   "execution_count": null,
   "metadata": {},
   "outputs": [],
   "source": []
  }
 ],
 "metadata": {
  "kernelspec": {
   "display_name": "Python 3",
   "language": "python",
   "name": "python3"
  },
  "language_info": {
   "codemirror_mode": {
    "name": "ipython",
    "version": 3
   },
   "file_extension": ".py",
   "mimetype": "text/x-python",
   "name": "python",
   "nbconvert_exporter": "python",
   "pygments_lexer": "ipython3",
   "version": "3.6.2"
  }
 },
 "nbformat": 4,
 "nbformat_minor": 2
}
