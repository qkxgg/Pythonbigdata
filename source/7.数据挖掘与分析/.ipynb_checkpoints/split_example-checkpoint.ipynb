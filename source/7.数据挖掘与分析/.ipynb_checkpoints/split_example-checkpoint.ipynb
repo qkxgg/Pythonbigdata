{
 "cells": [
  {
   "cell_type": "code",
   "execution_count": 3,
   "metadata": {},
   "outputs": [
    {
     "name": "stdout",
     "output_type": "stream",
     "text": [
      "67 33\n",
      "67 33\n"
     ]
    }
   ],
   "source": [
    "#Hold-Out Method例子\n",
    "import numpy as np\n",
    "from sklearn.model_selection import train_test_split\n",
    "#创建一个数据集X和相应的标签y,X中样本数目为100\n",
    "X, y = np.arange(200).reshape((100, 2)), range(100)\n",
    "#用train_test_split函数划分出训练集和测试集，测试集占比0.33\n",
    "X_train, X_test, y_train, y_test = train_test_split( X, y, test_size=0.33, random_state=42)\n",
    "print(len(X_train), len(X_test))\n",
    "print(len(y_train), len(y_test))"
   ]
  },
  {
   "cell_type": "code",
   "execution_count": 8,
   "metadata": {},
   "outputs": [
    {
     "name": "stdout",
     "output_type": "stream",
     "text": [
      "train: [1 4 5 6], test: [2 3]\n",
      "train: [2 3 4 6], test: [1 5]\n",
      "train: [1 2 3 5], test: [4 6]\n"
     ]
    }
   ],
   "source": [
    "#K-fold Cross Validation的例子\n",
    "from numpy import array\n",
    "from sklearn.model_selection import KFold\n",
    "data = array([1, 2, 3, 4, 5, 6])\n",
    "kfold = KFold(n_splits=3, shuffle = True, random_state= 1)\n",
    "for train, test in kfold.split(data):\n",
    "     print('train: %s, test: %s' % (data[train], data[test]))"
   ]
  },
  {
   "cell_type": "code",
   "execution_count": 6,
   "metadata": {},
   "outputs": [
    {
     "name": "stdout",
     "output_type": "stream",
     "text": [
      "train: [2 3 4], test: [1]\n",
      "train: [1 3 4], test: [2]\n",
      "train: [1 2 4], test: [3]\n",
      "train: [1 2 3], test: [4]\n"
     ]
    }
   ],
   "source": [
    "#Leave-One-Out Cross Validation例子\n",
    "from sklearn.model_selection import LeaveOneOut\n",
    "data = array([1, 2, 3, 4])\n",
    "loo = LeaveOneOut()\n",
    "for train, test in loo.split(data):\n",
    "    print('train: %s, test: %s' % (data[train], data[test]))"
   ]
  },
  {
   "cell_type": "code",
   "execution_count": null,
   "metadata": {},
   "outputs": [],
   "source": []
  }
 ],
 "metadata": {
  "kernelspec": {
   "display_name": "Python 3",
   "language": "python",
   "name": "python3"
  },
  "language_info": {
   "codemirror_mode": {
    "name": "ipython",
    "version": 3
   },
   "file_extension": ".py",
   "mimetype": "text/x-python",
   "name": "python",
   "nbconvert_exporter": "python",
   "pygments_lexer": "ipython3",
   "version": "3.6.2"
  }
 },
 "nbformat": 4,
 "nbformat_minor": 2
}
