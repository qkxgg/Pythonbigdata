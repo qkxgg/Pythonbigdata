{
 "cells": [
  {
   "cell_type": "code",
   "execution_count": 21,
   "metadata": {},
   "outputs": [
    {
     "name": "stdout",
     "output_type": "stream",
     "text": [
      "[-10  -9  -8  -7  -6  -5  -4  -3  -2  -1   0   1   2   3   4   5   6   7\n",
      "   8   9  10] [0 0 0 0 0 0 0 0 1 1 1 1 1 0 0 0 0 0 0 0 0]\n"
     ]
    },
    {
     "data": {
      "image/png": "[encoded data removed]",
      "text/plain": [
       "<matplotlib.figure.Figure at 0x8245978>"
      ]
     },
     "metadata": {},
     "output_type": "display_data"
    }
   ],
   "source": [
    "import numpy as np\n",
    "import matplotlib.pyplot as plt\n",
    "%matplotlib inline\n",
    "\n",
    "x = np.arange(-10, 11, 1)\n",
    "y = np.array((x >= -2) & (x <= 2), dtype='int')\n",
    "\n",
    "print(x,y)\n",
    "plt.scatter(x[y==0], [0]*len(x[y==0]))\n",
    "plt.scatter(x[y==1], [0]*len(x[y==1]))\n",
    "plt.show()"
   ]
  },
  {
   "cell_type": "code",
   "execution_count": 24,
   "metadata": {},
   "outputs": [
    {
     "data": {
      "image/png": "[encoded data removed]",
      "text/plain": [
       "<matplotlib.figure.Figure at 0x87af710>"
      ]
     },
     "metadata": {},
     "output_type": "display_data"
    }
   ],
   "source": [
    "def gaussian(x, l):\n",
    "    # 此处直接将超参数 γ 设定为 1.0；\n",
    "    # 此处 x 表示一维的样本，也就是一个具体的值，l 相应的也是一个具体的数，因为 l 和 x 一样，从特征空间中选定；\n",
    "    gamma = 1.0\n",
    "    # 此处因为 x 和 l 都只是一个数，不需要再计算模，可以直接平方；\n",
    "    return np.exp(-gamma * (x-l)**2)\n",
    "\n",
    "# 设定地标 l1、l2 为 -1和1\n",
    "l1, l2 = -1, 1\n",
    "x_new = np.empty((len(x), 2))\n",
    "\n",
    "for i, data in enumerate(x):\n",
    "    x_new[i, 0] = gaussian(data, l1)\n",
    "    x_new[i, 1] = gaussian(data, l2)\n",
    "\n",
    "plt.scatter(x_new[y==0, 0], x_new[y==0, 1])\n",
    "plt.scatter(x_new[y==1, 0], x_new[y==1, 1])\n",
    "plt.show()"
   ]
  },
  {
   "cell_type": "code",
   "execution_count": 23,
   "metadata": {},
   "outputs": [
    {
     "name": "stdout",
     "output_type": "stream",
     "text": [
      "[-10  -9  -8  -7  -6  -5  -4  -3  -2  -1   0   1   2   3   4   5   6   7\n",
      "   8   9  10] [ 100.   81.   64.   49.   36.   25.   16.    9.    4.    1.    0.    1.\n",
      "    4.    9.   16.   25.   36.   49.   64.   81.  100.] [0 0 0 0 0 0 0 0 1 1 1 1 1 0 0 0 0 0 0 0 0]\n"
     ]
    },
    {
     "data": {
      "image/png": "[encoded data removed]",
      "text/plain": [
       "<matplotlib.figure.Figure at 0x8202ef0>"
      ]
     },
     "metadata": {},
     "output_type": "display_data"
    }
   ],
   "source": [
    "def poly(x, power):\n",
    "    # 此处仅计算x^power；\n",
    "    return pow(x,power)\n",
    "\n",
    "x_new = np.empty(len(x))\n",
    "for i in range(len(x)):\n",
    "    x_new[i]=poly(x[i],2)\n",
    "#x_new = [ploy(xi,2) for xi in x]\n",
    "\n",
    "print(x,x_new,y)\n",
    "plt.scatter(x[y==0],x_new[y==0])#,[0]*len(x_new[y==0]))\n",
    "plt.scatter(x[y==1],x_new[y==1])\n",
    "#plt.scatter(x_new[y==1],[0]*len(x_new[y==1]))\n",
    "plt.show()"
   ]
  },
  {
   "cell_type": "code",
   "execution_count": null,
   "metadata": {},
   "outputs": [],
   "source": []
  }
 ],
 "metadata": {
  "kernelspec": {
   "display_name": "Python 3",
   "language": "python",
   "name": "python3"
  },
  "language_info": {
   "codemirror_mode": {
    "name": "ipython",
    "version": 3
   },
   "file_extension": ".py",
   "mimetype": "text/x-python",
   "name": "python",
   "nbconvert_exporter": "python",
   "pygments_lexer": "ipython3",
   "version": "3.7.4"
  }
 },
 "nbformat": 4,
 "nbformat_minor": 2
}
