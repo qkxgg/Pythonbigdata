{
 "cells": [
  {
   "cell_type": "code",
   "execution_count": 32,
   "metadata": {},
   "outputs": [
    {
     "name": "stdout",
     "output_type": "stream",
     "text": [
      "             precision    recall  f1-score   support\n",
      "\n",
      "          0       1.00      1.00      1.00        14\n",
      "          1       0.94      1.00      0.97        17\n",
      "          2       1.00      0.93      0.96        14\n",
      "\n",
      "avg / total       0.98      0.98      0.98        45\n",
      "\n",
      "Number of mislabeled points out of a total 150 points : 1\n"
     ]
    }
   ],
   "source": [
    "from sklearn.datasets import load_iris\n",
    "from sklearn import tree\n",
    "iris = load_iris()\n",
    "\n",
    "#分离数据集\n",
    "from sklearn.model_selection import train_test_split\n",
    "x_train, x_test, y_train, y_test = train_test_split(iris.data, iris.target, test_size=0.3, random_state=10)\n",
    "\n",
    "dtc = tree.DecisionTreeClassifier()\n",
    "dtc.fit(x_train, y_train)\n",
    "y_pred=dtc.predict(x_test)\n",
    "\n",
    "from sklearn.metrics import classification_report\n",
    "print(classification_report(y_test, y_pred))\n",
    "\n",
    "print(\"Number of mislabeled points out of a total %d points : %d\"\n",
    "      % (iris.data.shape[0],(y_test!= y_pred).sum()))"
   ]
  },
  {
   "cell_type": "code",
   "execution_count": 33,
   "metadata": {},
   "outputs": [],
   "source": [
    "import pandas as pd\n",
    "import numpy as np\n",
    "\n",
    "titanic_df = pd.read_csv('data/titanic2.csv')\n",
    "\n",
    "#选取参与训练和预测的特征与目标\n",
    "features = titanic_df[['Pclass', 'Age', 'Fare', 'Cabin_cat', 'Sex_female', 'Sex_male', 'Embarked_cat']]\n",
    "target = titanic_df['Survived']\n",
    "\n",
    "#分离数据集\n",
    "from sklearn.model_selection import train_test_split\n",
    "x_train, x_test, y_train, y_test = train_test_split(features, target, test_size=0.3, random_state=33)"
   ]
  },
  {
   "cell_type": "code",
   "execution_count": 34,
   "metadata": {},
   "outputs": [],
   "source": [
    "#从sklearn中引入决策树分类\n",
    "from sklearn.tree import DecisionTreeClassifier\n",
    "dtc = DecisionTreeClassifier()\n",
    "dtc.fit(x_train, y_train)\n",
    "y_pred = dtc.predict(x_test)\n",
    "from sklearn.metrics import classification_report\n",
    "\n"
   ]
  },
  {
   "cell_type": "code",
   "execution_count": 35,
   "metadata": {},
   "outputs": [
    {
     "name": "stdout",
     "output_type": "stream",
     "text": [
      "Accracy: 0.832089552239\n",
      "             precision    recall  f1-score   support\n",
      "\n",
      "       died       0.83      0.91      0.87       164\n",
      "   survived       0.83      0.71      0.77       104\n",
      "\n",
      "avg / total       0.83      0.83      0.83       268\n",
      "\n"
     ]
    }
   ],
   "source": [
    "print('Accracy:',dtc.score(x_test,y_test))\n",
    "print(classification_report(y_test, y_pred, target_names=['died', 'survived']))\n"
   ]
  },
  {
   "cell_type": "code",
   "execution_count": 36,
   "metadata": {},
   "outputs": [],
   "source": [
    "from sklearn import tree\n",
    "#将生成的决策树保存\n",
    "with open(\"titanic_judge.dot\", 'w') as f:\n",
    "    f = tree.export_graphviz(dtc, out_file = f)"
   ]
  },
  {
   "cell_type": "code",
   "execution_count": 39,
   "metadata": {},
   "outputs": [],
   "source": [
    "#titanic_df[(titanic_df.Sex_female<0.5 and titanic_df.Survived==1)].sum()"
   ]
  },
  {
   "cell_type": "code",
   "execution_count": null,
   "metadata": {},
   "outputs": [],
   "source": []
  }
 ],
 "metadata": {
  "kernelspec": {
   "display_name": "Python 3",
   "language": "python",
   "name": "python3"
  },
  "language_info": {
   "codemirror_mode": {
    "name": "ipython",
    "version": 3
   },
   "file_extension": ".py",
   "mimetype": "text/x-python",
   "name": "python",
   "nbconvert_exporter": "python",
   "pygments_lexer": "ipython3",
   "version": "3.6.5"
  }
 },
 "nbformat": 4,
 "nbformat_minor": 2
}
