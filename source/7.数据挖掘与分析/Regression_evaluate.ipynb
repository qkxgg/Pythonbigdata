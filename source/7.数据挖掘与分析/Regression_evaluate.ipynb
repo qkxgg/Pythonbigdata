{
 "cells": [
  {
   "cell_type": "code",
   "execution_count": 5,
   "metadata": {},
   "outputs": [
    {
     "name": "stdout",
     "output_type": "stream",
     "text": [
      "MAE: 0.75\n",
      "MSE: 0.75\n",
      "R2_score: 0.85\n",
      "0.75\n",
      "[ 0.5  1. ]\n",
      "0.85\n"
     ]
    }
   ],
   "source": [
    "from sklearn.metrics import mean_absolute_error,mean_squared_error,r2_score\n",
    "\n",
    "y_true=[1,3,5,7]\n",
    "y_pred=[2,4,5,8]\n",
    "\n",
    "print(mean_absolute_error(y_true,y_pred)) #输出为0.75\n",
    "print(mean_squared_error(y_true,y_pred))#输出为0.75\n",
    "print(r2_score(y_true,y_pred)) #输出为0.85\n",
    "\n",
    "y_true=[[0.5,1],[-1,1],[7,-6]]\n",
    "y_pred=[[0,2],[-1,2],[8,-5]]\n",
    "print(mean_absolute_error(y_true,y_pred))\n",
    "print(mean_absolute_error(y_true,y_pred,multioutput=\"raw_values\"))\n",
    "print(mean_absolute_error(y_true,y_pred,multioutput=[0.3,0.7]))"
   ]
  },
  {
   "cell_type": "code",
   "execution_count": null,
   "metadata": {},
   "outputs": [],
   "source": []
  }
 ],
 "metadata": {
  "kernelspec": {
   "display_name": "Python 3",
   "language": "python",
   "name": "python3"
  },
  "language_info": {
   "codemirror_mode": {
    "name": "ipython",
    "version": 3
   },
   "file_extension": ".py",
   "mimetype": "text/x-python",
   "name": "python",
   "nbconvert_exporter": "python",
   "pygments_lexer": "ipython3",
   "version": "3.6.2"
  }
 },
 "nbformat": 4,
 "nbformat_minor": 2
}
