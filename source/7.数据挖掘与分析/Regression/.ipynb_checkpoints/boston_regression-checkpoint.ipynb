{
 "cells": [
  {
   "cell_type": "code",
   "execution_count": 1,
   "metadata": {},
   "outputs": [
    {
     "data": {
      "text/html": [
       "<div>\n",
       "<style>\n",
       "    .dataframe thead tr:only-child th {\n",
       "        text-align: right;\n",
       "    }\n",
       "\n",
       "    .dataframe thead th {\n",
       "        text-align: left;\n",
       "    }\n",
       "\n",
       "    .dataframe tbody tr th {\n",
       "        vertical-align: top;\n",
       "    }\n",
       "</style>\n",
       "<table border=\"1\" class=\"dataframe\">\n",
       "  <thead>\n",
       "    <tr style=\"text-align: right;\">\n",
       "      <th></th>\n",
       "      <th>CRIM</th>\n",
       "      <th>ZN</th>\n",
       "      <th>INDUS</th>\n",
       "      <th>CHAS</th>\n",
       "      <th>NOX</th>\n",
       "      <th>RM</th>\n",
       "      <th>AGE</th>\n",
       "      <th>DIS</th>\n",
       "      <th>RAD</th>\n",
       "      <th>TAX</th>\n",
       "      <th>PTRATIO</th>\n",
       "      <th>B</th>\n",
       "      <th>LSTAT</th>\n",
       "      <th>MEDV</th>\n",
       "    </tr>\n",
       "  </thead>\n",
       "  <tbody>\n",
       "    <tr>\n",
       "      <th>0</th>\n",
       "      <td>0.00632</td>\n",
       "      <td>18.0</td>\n",
       "      <td>2.31</td>\n",
       "      <td>0.0</td>\n",
       "      <td>0.538</td>\n",
       "      <td>6.575</td>\n",
       "      <td>65.2</td>\n",
       "      <td>4.0900</td>\n",
       "      <td>1.0</td>\n",
       "      <td>296.0</td>\n",
       "      <td>15.3</td>\n",
       "      <td>396.90</td>\n",
       "      <td>4.98</td>\n",
       "      <td>24.0</td>\n",
       "    </tr>\n",
       "    <tr>\n",
       "      <th>1</th>\n",
       "      <td>0.02731</td>\n",
       "      <td>0.0</td>\n",
       "      <td>7.07</td>\n",
       "      <td>0.0</td>\n",
       "      <td>0.469</td>\n",
       "      <td>6.421</td>\n",
       "      <td>78.9</td>\n",
       "      <td>4.9671</td>\n",
       "      <td>2.0</td>\n",
       "      <td>242.0</td>\n",
       "      <td>17.8</td>\n",
       "      <td>396.90</td>\n",
       "      <td>9.14</td>\n",
       "      <td>21.6</td>\n",
       "    </tr>\n",
       "    <tr>\n",
       "      <th>2</th>\n",
       "      <td>0.02729</td>\n",
       "      <td>0.0</td>\n",
       "      <td>7.07</td>\n",
       "      <td>0.0</td>\n",
       "      <td>0.469</td>\n",
       "      <td>7.185</td>\n",
       "      <td>61.1</td>\n",
       "      <td>4.9671</td>\n",
       "      <td>2.0</td>\n",
       "      <td>242.0</td>\n",
       "      <td>17.8</td>\n",
       "      <td>392.83</td>\n",
       "      <td>4.03</td>\n",
       "      <td>34.7</td>\n",
       "    </tr>\n",
       "    <tr>\n",
       "      <th>3</th>\n",
       "      <td>0.03237</td>\n",
       "      <td>0.0</td>\n",
       "      <td>2.18</td>\n",
       "      <td>0.0</td>\n",
       "      <td>0.458</td>\n",
       "      <td>6.998</td>\n",
       "      <td>45.8</td>\n",
       "      <td>6.0622</td>\n",
       "      <td>3.0</td>\n",
       "      <td>222.0</td>\n",
       "      <td>18.7</td>\n",
       "      <td>394.63</td>\n",
       "      <td>2.94</td>\n",
       "      <td>33.4</td>\n",
       "    </tr>\n",
       "    <tr>\n",
       "      <th>4</th>\n",
       "      <td>0.06905</td>\n",
       "      <td>0.0</td>\n",
       "      <td>2.18</td>\n",
       "      <td>0.0</td>\n",
       "      <td>0.458</td>\n",
       "      <td>7.147</td>\n",
       "      <td>54.2</td>\n",
       "      <td>6.0622</td>\n",
       "      <td>3.0</td>\n",
       "      <td>222.0</td>\n",
       "      <td>18.7</td>\n",
       "      <td>396.90</td>\n",
       "      <td>5.33</td>\n",
       "      <td>36.2</td>\n",
       "    </tr>\n",
       "  </tbody>\n",
       "</table>\n",
       "</div>"
      ],
      "text/plain": [
       "      CRIM    ZN  INDUS  CHAS    NOX     RM   AGE     DIS  RAD    TAX  \\\n",
       "0  0.00632  18.0   2.31   0.0  0.538  6.575  65.2  4.0900  1.0  296.0   \n",
       "1  0.02731   0.0   7.07   0.0  0.469  6.421  78.9  4.9671  2.0  242.0   \n",
       "2  0.02729   0.0   7.07   0.0  0.469  7.185  61.1  4.9671  2.0  242.0   \n",
       "3  0.03237   0.0   2.18   0.0  0.458  6.998  45.8  6.0622  3.0  222.0   \n",
       "4  0.06905   0.0   2.18   0.0  0.458  7.147  54.2  6.0622  3.0  222.0   \n",
       "\n",
       "   PTRATIO       B  LSTAT  MEDV  \n",
       "0     15.3  396.90   4.98  24.0  \n",
       "1     17.8  396.90   9.14  21.6  \n",
       "2     17.8  392.83   4.03  34.7  \n",
       "3     18.7  394.63   2.94  33.4  \n",
       "4     18.7  396.90   5.33  36.2  "
      ]
     },
     "execution_count": 1,
     "metadata": {},
     "output_type": "execute_result"
    }
   ],
   "source": [
    "#导入数据\n",
    "from sklearn.datasets import load_boston\n",
    "import pandas as pd\n",
    "\n",
    "boston = load_boston()\n",
    "features = boston.data\n",
    "target = boston.target\n",
    "df_boston = pd.DataFrame(features)\n",
    "df_boston.columns = boston.feature_names\n",
    "df_boston[\"MEDV\"] = target\n",
    "df_boston.head()"
   ]
  },
  {
   "cell_type": "code",
   "execution_count": 2,
   "metadata": {},
   "outputs": [
    {
     "name": "stdout",
     "output_type": "stream",
     "text": [
      ".. _boston_dataset:\n",
      "\n",
      "Boston house prices dataset\n",
      "---------------------------\n",
      "\n",
      "**Data Set Characteristics:**  \n",
      "\n",
      "    :Number of Instances: 506 \n",
      "\n",
      "    :Number of Attributes: 13 numeric/categorical predictive. Median Value (attribute 14) is usually the target.\n",
      "\n",
      "    :Attribute Information (in order):\n",
      "        - CRIM     per capita crime rate by town\n",
      "        - ZN       proportion of residential land zoned for lots over 25,000 sq.ft.\n",
      "        - INDUS    proportion of non-retail business acres per town\n",
      "        - CHAS     Charles River dummy variable (= 1 if tract bounds river; 0 otherwise)\n",
      "        - NOX      nitric oxides concentration (parts per 10 million)\n",
      "        - RM       average number of rooms per dwelling\n",
      "        - AGE      proportion of owner-occupied units built prior to 1940\n",
      "        - DIS      weighted distances to five Boston employment centres\n",
      "        - RAD      index of accessibility to radial highways\n",
      "        - TAX      full-value property-tax rate per $10,000\n",
      "        - PTRATIO  pupil-teacher ratio by town\n",
      "        - B        1000(Bk - 0.63)^2 where Bk is the proportion of blacks by town\n",
      "        - LSTAT    % lower status of the population\n",
      "        - MEDV     Median value of owner-occupied homes in $1000's\n",
      "\n",
      "    :Missing Attribute Values: None\n",
      "\n",
      "    :Creator: Harrison, D. and Rubinfeld, D.L.\n",
      "\n",
      "This is a copy of UCI ML housing dataset.\n",
      "https://archive.ics.uci.edu/ml/machine-learning-databases/housing/\n",
      "\n",
      "\n",
      "This dataset was taken from the StatLib library which is maintained at Carnegie Mellon University.\n",
      "\n",
      "The Boston house-price data of Harrison, D. and Rubinfeld, D.L. 'Hedonic\n",
      "prices and the demand for clean air', J. Environ. Economics & Management,\n",
      "vol.5, 81-102, 1978.   Used in Belsley, Kuh & Welsch, 'Regression diagnostics\n",
      "...', Wiley, 1980.   N.B. Various transformations are used in the table on\n",
      "pages 244-261 of the latter.\n",
      "\n",
      "The Boston house-price data has been used in many machine learning papers that address regression\n",
      "problems.   \n",
      "     \n",
      ".. topic:: References\n",
      "\n",
      "   - Belsley, Kuh & Welsch, 'Regression diagnostics: Identifying Influential Data and Sources of Collinearity', Wiley, 1980. 244-261.\n",
      "   - Quinlan,R. (1993). Combining Instance-Based and Model-Based Learning. In Proceedings on the Tenth International Conference of Machine Learning, 236-243, University of Massachusetts, Amherst. Morgan Kaufmann.\n",
      "\n"
     ]
    }
   ],
   "source": [
    "print(boston.DESCR) #查看数据集的描述信息"
   ]
  },
  {
   "cell_type": "code",
   "execution_count": 9,
   "metadata": {},
   "outputs": [],
   "source": [
    "#标准化\n",
    "from sklearn.preprocessing import StandardScaler\n",
    "\n",
    "ss_x = StandardScaler()\n",
    "ss_y = StandardScaler()\n",
    "\n",
    "s_features=ss_x.fit_transform(features)\n",
    "s_target=ss_y.fit_transform(target.values.reshape(-1, 1))\n"
   ]
  },
  {
   "cell_type": "code",
   "execution_count": 10,
   "metadata": {},
   "outputs": [],
   "source": [
    "#分离数据集\n",
    "from sklearn.model_selection import train_test_split\n",
    "features=df_boston[df_boston.loc[:,df_boston.columns!='MEDV'].columns]\n",
    "target = df_boston['MEDV']\n",
    "x_train, x_test, y_train, y_test = train_test_split(s_features, s_target, test_size=0.3, random_state=0)"
   ]
  },
  {
   "cell_type": "code",
   "execution_count": 11,
   "metadata": {},
   "outputs": [
    {
     "name": "stdout",
     "output_type": "stream",
     "text": [
      "lr_MSE:\t 27.195965766883198\n",
      "lr_MAE:\t 3.6099040603818127\n",
      "lr_R2:\t 0.6733825506400195\n"
     ]
    }
   ],
   "source": [
    "from sklearn.linear_model import LinearRegression\n",
    "from sklearn.metrics import mean_absolute_error,mean_squared_error,r2_score\n",
    "\n",
    "#线型回归\n",
    "lr_model = LinearRegression()\n",
    "lr_model.fit(x_train, y_train)\n",
    "lr_y_pred = lr_model.predict(x_test)\n",
    "\n",
    "lr_MSE = mean_squared_error(ss_y.inverse_transform(y_test), ss_y.inverse_transform(lr_y_pred))\n",
    "lr_MAE = mean_absolute_error(ss_y.inverse_transform(y_test), ss_y.inverse_transform(lr_y_pred))\n",
    "lr_R2 = r2_score(y_test, lr_y_pred)\n",
    "\n",
    "print(\"lr_MSE:\\t\",lr_MSE)     \n",
    "print(\"lr_MAE:\\t\",lr_MAE)     \n",
    "print(\"lr_R2:\\t\",lr_R2)    "
   ]
  },
  {
   "cell_type": "code",
   "execution_count": 45,
   "metadata": {},
   "outputs": [
    {
     "name": "stdout",
     "output_type": "stream",
     "text": [
      "svr_linear_MSE:\t 31.5155456826\n",
      "svr_linear_MAE:\t 3.54110394231\n",
      "svr_linear_R2:\t 0.621505364646\n"
     ]
    },
    {
     "name": "stderr",
     "output_type": "stream",
     "text": [
      "D:\\Program Files\\Anaconda3\\lib\\site-packages\\sklearn\\utils\\validation.py:724: DataConversionWarning: A column-vector y was passed when a 1d array was expected. Please change the shape of y to (n_samples, ), for example using ravel().\n",
      "  y = column_or_1d(y, warn=True)\n"
     ]
    }
   ],
   "source": [
    "#使用线性核函数的SVR进行训练，并进行预测\n",
    "from sklearn.svm import SVR\n",
    "from sklearn.metrics import mean_absolute_error,mean_squared_error,r2_score\n",
    "\n",
    "l_svr = SVR(kernel='linear')\n",
    "l_svr.fit(x_train, y_train)\n",
    "l_svr_y_pred = l_svr.predict(x_test)\n",
    "\n",
    "svr_linear_MSE = mean_squared_error(ss_y.inverse_transform(y_test), ss_y.inverse_transform(l_svr_y_pred))\n",
    "svr_linear_MAE = mean_absolute_error(ss_y.inverse_transform(y_test), ss_y.inverse_transform(l_svr_y_pred))\n",
    "svr_linear_R2 = r2_score(y_test,l_svr_y_pred)\n",
    "\n",
    "print(\"svr_linear_MSE:\\t\",svr_linear_MSE)     \n",
    "print(\"svr_linear_MAE:\\t\",svr_linear_MAE)     \n",
    "print(\"svr_linear_R2:\\t\",svr_linear_R2)  "
   ]
  },
  {
   "cell_type": "code",
   "execution_count": 46,
   "metadata": {},
   "outputs": [
    {
     "name": "stdout",
     "output_type": "stream",
     "text": [
      "svr_rbf_MSE:\t 20.969826622\n",
      "svr_rbf_MAE:\t 2.69814096739\n",
      "svr_rbf_R2:\t 0.748157085374\n"
     ]
    },
    {
     "name": "stderr",
     "output_type": "stream",
     "text": [
      "D:\\Program Files\\Anaconda3\\lib\\site-packages\\sklearn\\utils\\validation.py:724: DataConversionWarning: A column-vector y was passed when a 1d array was expected. Please change the shape of y to (n_samples, ), for example using ravel().\n",
      "  y = column_or_1d(y, warn=True)\n",
      "D:\\Program Files\\Anaconda3\\lib\\site-packages\\sklearn\\svm\\base.py:193: FutureWarning: The default value of gamma will change from 'auto' to 'scale' in version 0.22 to account better for unscaled features. Set gamma explicitly to 'auto' or 'scale' to avoid this warning.\n",
      "  \"avoid this warning.\", FutureWarning)\n"
     ]
    }
   ],
   "source": [
    "#使用径向基核函数的SVR进行训练，并进行预测\n",
    "r_svr = SVR(kernel='rbf')\n",
    "r_svr.fit(x_train, y_train)\n",
    "r_svr_y_pred = r_svr.predict(x_test)\n",
    "\n",
    "svr_rbf_MSE = mean_squared_error(ss_y.inverse_transform(y_test), ss_y.inverse_transform(r_svr_y_pred))\n",
    "svr_rbf_MAE = mean_absolute_error(ss_y.inverse_transform(y_test), ss_y.inverse_transform(r_svr_y_pred))\n",
    "svr_rbf_R2 = r2_score(y_test,r_svr_y_pred)\n",
    "\n",
    "print(\"svr_rbf_MSE:\\t\",svr_rbf_MSE)     \n",
    "print(\"svr_rbf_MAE:\\t\",svr_rbf_MAE)     \n",
    "print(\"svr_rbf_R2:\\t\",svr_rbf_R2) "
   ]
  },
  {
   "cell_type": "code",
   "execution_count": 47,
   "metadata": {},
   "outputs": [
    {
     "name": "stdout",
     "output_type": "stream",
     "text": [
      "svr_poly_MSE:\t 22.8817510876\n",
      "svr_poly_MAE:\t 3.07137528017\n",
      "svr_poly_R2:\t 0.725195301348\n"
     ]
    },
    {
     "name": "stderr",
     "output_type": "stream",
     "text": [
      "D:\\Program Files\\Anaconda3\\lib\\site-packages\\sklearn\\utils\\validation.py:724: DataConversionWarning: A column-vector y was passed when a 1d array was expected. Please change the shape of y to (n_samples, ), for example using ravel().\n",
      "  y = column_or_1d(y, warn=True)\n",
      "D:\\Program Files\\Anaconda3\\lib\\site-packages\\sklearn\\svm\\base.py:193: FutureWarning: The default value of gamma will change from 'auto' to 'scale' in version 0.22 to account better for unscaled features. Set gamma explicitly to 'auto' or 'scale' to avoid this warning.\n",
      "  \"avoid this warning.\", FutureWarning)\n"
     ]
    }
   ],
   "source": [
    "#使用多项式核函数的SVR进行训练，并进行预测\n",
    "p_svr = SVR(kernel='poly')\n",
    "p_svr.fit(x_train, y_train)\n",
    "p_svr_y_pred = p_svr.predict(x_test)\n",
    "\n",
    "svr_poly_MSE = mean_squared_error(ss_y.inverse_transform(y_test), ss_y.inverse_transform(p_svr_y_pred))\n",
    "svr_poly_MAE = mean_absolute_error(ss_y.inverse_transform(y_test), ss_y.inverse_transform(p_svr_y_pred))\n",
    "svr_poly_R2 = r2_score(y_test,p_svr_y_pred)\n",
    "\n",
    "print(\"svr_poly_MSE:\\t\",svr_poly_MSE)     \n",
    "print(\"svr_poly_MAE:\\t\",svr_poly_MAE)     \n",
    "print(\"svr_poly_R2:\\t\",svr_poly_R2)"
   ]
  },
  {
   "cell_type": "code",
   "execution_count": 48,
   "metadata": {},
   "outputs": [
    {
     "name": "stdout",
     "output_type": "stream",
     "text": [
      "dtr_MSE:\t 26.8713815789\n",
      "dtr_MAE:\t 3.14407894737\n",
      "dtr_R2:\t 0.67728073394\n"
     ]
    }
   ],
   "source": [
    "#决策树回归\n",
    "from sklearn.tree import DecisionTreeRegressor\n",
    "from sklearn.metrics import mean_absolute_error,mean_squared_error,r2_score\n",
    "\n",
    "dtr = DecisionTreeRegressor()\n",
    "dtr.fit(x_train, y_train)\n",
    "dtr_y_pred = dtr.predict(x_test)\n",
    "\n",
    "dtr_MSE = mean_squared_error(ss_y.inverse_transform(y_test), ss_y.inverse_transform(dtr_y_pred))\n",
    "dtr_MAE = mean_absolute_error(ss_y.inverse_transform(y_test), ss_y.inverse_transform(dtr_y_pred))\n",
    "dtr_R2 = r2_score(y_test,dtr_y_pred)\n",
    "\n",
    "print(\"dtr_MSE:\\t\",dtr_MSE)     \n",
    "print(\"dtr_MAE:\\t\",dtr_MAE)     \n",
    "print(\"dtr_R2:\\t\",dtr_R2)"
   ]
  },
  {
   "cell_type": "code",
   "execution_count": 49,
   "metadata": {},
   "outputs": [
    {
     "name": "stdout",
     "output_type": "stream",
     "text": [
      "knr_MSE:\t 27.8072921053\n",
      "knr_MAE:\t 3.26828947368\n",
      "knr_R2:\t 0.666040658424\n"
     ]
    }
   ],
   "source": [
    "#K近邻回归\n",
    "from sklearn.neighbors import KNeighborsRegressor\n",
    "from sklearn.metrics import mean_absolute_error,mean_squared_error,r2_score\n",
    "\n",
    "knr = KNeighborsRegressor()\n",
    "knr.fit(x_train, y_train)\n",
    "knr_y_pred = knr.predict(x_test)\n",
    "\n",
    "knr_MSE = mean_squared_error(ss_y.inverse_transform(y_test), ss_y.inverse_transform(knr_y_pred))\n",
    "knr_MAE = mean_absolute_error(ss_y.inverse_transform(y_test), ss_y.inverse_transform(knr_y_pred))\n",
    "knr_R2 = r2_score(y_test,knr_y_pred)\n",
    "\n",
    "print(\"knr_MSE:\\t\",knr_MSE)     \n",
    "print(\"knr_MAE:\\t\",knr_MAE)     \n",
    "print(\"knr_R2:\\t\",knr_R2)"
   ]
  },
  {
   "cell_type": "code",
   "execution_count": 53,
   "metadata": {},
   "outputs": [
    {
     "data": {
      "text/html": [
       "<div>\n",
       "<style>\n",
       "    .dataframe thead tr:only-child th {\n",
       "        text-align: right;\n",
       "    }\n",
       "\n",
       "    .dataframe thead th {\n",
       "        text-align: left;\n",
       "    }\n",
       "\n",
       "    .dataframe tbody tr th {\n",
       "        vertical-align: top;\n",
       "    }\n",
       "</style>\n",
       "<table border=\"1\" class=\"dataframe\">\n",
       "  <thead>\n",
       "    <tr style=\"text-align: right;\">\n",
       "      <th></th>\n",
       "      <th>MAE</th>\n",
       "      <th>MSE</th>\n",
       "      <th>Model</th>\n",
       "      <th>R2</th>\n",
       "    </tr>\n",
       "  </thead>\n",
       "  <tbody>\n",
       "    <tr>\n",
       "      <th>2</th>\n",
       "      <td>2.698141</td>\n",
       "      <td>20.969827</td>\n",
       "      <td>SVR(rbf)</td>\n",
       "      <td>0.748157</td>\n",
       "    </tr>\n",
       "    <tr>\n",
       "      <th>3</th>\n",
       "      <td>3.071375</td>\n",
       "      <td>22.881751</td>\n",
       "      <td>SVR(poly)</td>\n",
       "      <td>0.725195</td>\n",
       "    </tr>\n",
       "    <tr>\n",
       "      <th>4</th>\n",
       "      <td>3.144079</td>\n",
       "      <td>26.871382</td>\n",
       "      <td>DecisionTreeRegressor</td>\n",
       "      <td>0.677281</td>\n",
       "    </tr>\n",
       "    <tr>\n",
       "      <th>5</th>\n",
       "      <td>3.268289</td>\n",
       "      <td>27.807292</td>\n",
       "      <td>KNeighborsRegressor</td>\n",
       "      <td>0.666041</td>\n",
       "    </tr>\n",
       "    <tr>\n",
       "      <th>1</th>\n",
       "      <td>3.541104</td>\n",
       "      <td>31.515546</td>\n",
       "      <td>SVR(linear)</td>\n",
       "      <td>0.621505</td>\n",
       "    </tr>\n",
       "    <tr>\n",
       "      <th>0</th>\n",
       "      <td>3.609904</td>\n",
       "      <td>27.195966</td>\n",
       "      <td>LinearRegression</td>\n",
       "      <td>0.673383</td>\n",
       "    </tr>\n",
       "  </tbody>\n",
       "</table>\n",
       "</div>"
      ],
      "text/plain": [
       "        MAE        MSE                  Model        R2\n",
       "2  2.698141  20.969827               SVR(rbf)  0.748157\n",
       "3  3.071375  22.881751              SVR(poly)  0.725195\n",
       "4  3.144079  26.871382  DecisionTreeRegressor  0.677281\n",
       "5  3.268289  27.807292    KNeighborsRegressor  0.666041\n",
       "1  3.541104  31.515546            SVR(linear)  0.621505\n",
       "0  3.609904  27.195966       LinearRegression  0.673383"
      ]
     },
     "execution_count": 53,
     "metadata": {},
     "output_type": "execute_result"
    }
   ],
   "source": [
    "models = pd.DataFrame({\n",
    "    'Model': [ 'LinearRegression', 'SVR(linear)', 'SVR(rbf)', 'SVR(poly)', 'DecisionTreeRegressor','KNeighborsRegressor'],\n",
    "    'MAE': [lr_MAE, svr_linear_MAE, svr_rbf_MAE, svr_poly_MAE, dtr_MAE, knr_MAE],\n",
    "    'MSE':[lr_MSE, svr_linear_MSE, svr_rbf_MSE, svr_poly_MSE, dtr_MSE, knr_MSE],\n",
    "     'R2':[lr_R2, svr_linear_R2, svr_rbf_R2, svr_poly_R2, dtr_R2, knr_R2]\n",
    "})\n",
    "   \n",
    "   \n",
    "models.sort_values(by='MAE', ascending=True)"
   ]
  },
  {
   "cell_type": "code",
   "execution_count": null,
   "metadata": {},
   "outputs": [],
   "source": []
  },
  {
   "cell_type": "code",
   "execution_count": null,
   "metadata": {
    "collapsed": true
   },
   "outputs": [],
   "source": []
  }
 ],
 "metadata": {
  "kernelspec": {
   "display_name": "Python 3",
   "language": "python",
   "name": "python3"
  },
  "language_info": {
   "codemirror_mode": {
    "name": "ipython",
    "version": 3
   },
   "file_extension": ".py",
   "mimetype": "text/x-python",
   "name": "python",
   "nbconvert_exporter": "python",
   "pygments_lexer": "ipython3",
   "version": "3.6.2"
  }
 },
 "nbformat": 4,
 "nbformat_minor": 2
}
