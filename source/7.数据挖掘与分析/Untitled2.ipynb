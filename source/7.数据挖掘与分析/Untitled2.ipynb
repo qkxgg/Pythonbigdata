{
 "cells": [
  {
   "cell_type": "code",
   "execution_count": 18,
   "metadata": {},
   "outputs": [
    {
     "name": "stdout",
     "output_type": "stream",
     "text": [
      "[ 0.475  0.475] 0.45\n",
      "[ 2.35]\n"
     ]
    }
   ],
   "source": [
    "from sklearn import linear_model\n",
    "X=[[0, 0], [1, 1], [2, 2]]\n",
    "y=[0.5, 1.3, 2.4]\n",
    "reg = linear_model.LinearRegression()\n",
    "\n",
    "model= reg.fit(X,y)\n",
    "\n",
    "print(model.coef_,model.intercept_)\n",
    "print(model.predict([[1,3]]))"
   ]
  },
  {
   "cell_type": "code",
   "execution_count": 39,
   "metadata": {},
   "outputs": [
    {
     "name": "stdout",
     "output_type": "stream",
     "text": [
      "0.0666666666667 0.005 0.991758241758\n"
     ]
    }
   ],
   "source": [
    "from sklearn.metrics import mean_absolute_error,mean_squared_error,r2_score\n",
    "import numpy as np\n",
    "\n",
    "y_pred=np.matmul(X,model.coef_.transpose())+model.intercept_\n",
    "\n",
    "MAE=mean_absolute_error(y,y_pred)\n",
    "MSE=mean_squared_error(y,y_pred)\n",
    "r2=r2_score(y,y_pred)\n",
    "print(MAE,MSE,r2)"
   ]
  },
  {
   "cell_type": "code",
   "execution_count": 40,
   "metadata": {},
   "outputs": [
    {
     "name": "stdout",
     "output_type": "stream",
     "text": [
      "[ 0.34545455  0.34545455] 0.136363636364\n"
     ]
    }
   ],
   "source": [
    "#岭回归\n",
    "from sklearn import linear_model\n",
    "reg = linear_model.Ridge (alpha = .5)\n",
    "reg.fit ([[0, 0], [0, 0], [1, 1]], [0, .1, 1])\n",
    "\n",
    "print(reg.coef_,reg.intercept_)\n"
   ]
  },
  {
   "cell_type": "code",
   "execution_count": null,
   "metadata": {},
   "outputs": [],
   "source": []
  }
 ],
 "metadata": {
  "kernelspec": {
   "display_name": "Python 3",
   "language": "python",
   "name": "python3"
  },
  "language_info": {
   "codemirror_mode": {
    "name": "ipython",
    "version": 3
   },
   "file_extension": ".py",
   "mimetype": "text/x-python",
   "name": "python",
   "nbconvert_exporter": "python",
   "pygments_lexer": "ipython3",
   "version": "3.6.2"
  }
 },
 "nbformat": 4,
 "nbformat_minor": 2
}
