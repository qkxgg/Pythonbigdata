{
 "cells": [
  {
   "cell_type": "code",
   "execution_count": 1,
   "metadata": {},
   "outputs": [],
   "source": [
    "import re"
   ]
  },
  {
   "cell_type": "code",
   "execution_count": 2,
   "metadata": {},
   "outputs": [
    {
     "name": "stdout",
     "output_type": "stream",
     "text": [
      "(0, 3)\n",
      "None\n"
     ]
    }
   ],
   "source": [
    "# match函数使用\n",
    "print(re.match('www', 'www.nwpu.edu.cn/').span())  # 在起始位置匹配\n",
    "print(re.match('cn', 'www.nwpu.edu.cn/'))"
   ]
  },
  {
   "cell_type": "code",
   "execution_count": 3,
   "metadata": {},
   "outputs": [
    {
     "name": "stdout",
     "output_type": "stream",
     "text": [
      "(0, 3)\n",
      "(13, 15)\n"
     ]
    }
   ],
   "source": [
    "# search函数的确使用\n",
    "print(re.search('www', 'www.nwpu.edu.cn').span())  # 在起始位置匹配\n",
    "print(re.search('cn', 'www.nwpu.edu.cn').span())         # 不在起始位置匹配"
   ]
  },
  {
   "cell_type": "code",
   "execution_count": 4,
   "metadata": {},
   "outputs": [
    {
     "name": "stdout",
     "output_type": "stream",
     "text": [
      "电话号码 :  2004-959-559 \n",
      "电话号码 :  2004959559\n"
     ]
    }
   ],
   "source": [
    "# sub函数使用\n",
    "phone = \"2004-959-559 # 这是一个电话号码\"\n",
    "# 删除注释\n",
    "num = re.sub(r'#.*$', \"\", phone)\n",
    "print (\"电话号码 : \", num)\n",
    "# 移除非数字的内容\n",
    "num = re.sub(r'\\D', \"\", phone)\n",
    "print (\"电话号码 : \", num)"
   ]
  },
  {
   "cell_type": "code",
   "execution_count": 5,
   "metadata": {},
   "outputs": [
    {
     "name": "stdout",
     "output_type": "stream",
     "text": [
      "None\n",
      "None\n",
      "<_sre.SRE_Match object; span=(3, 5), match='12'>\n"
     ]
    }
   ],
   "source": [
    "# compile函数使用\n",
    "pattern = re.compile(r'\\d+')                    # 用于匹配至少一个数字\n",
    "m = pattern.match('one12twothree34four')        # 查找头部，没有匹配\n",
    "print(m)\n",
    "m = pattern.match('one12twothree34four', 2, 10) # 从'e'的位置开始匹配，没有匹配\n",
    "print(m)\n",
    "m = pattern.match('one12twothree34four', 3, 10) # 从'1'的位置开始匹配，正好匹配\n",
    "print(m)"
   ]
  },
  {
   "cell_type": "code",
   "execution_count": 6,
   "metadata": {},
   "outputs": [
    {
     "name": "stdout",
     "output_type": "stream",
     "text": [
      "12\n",
      "32\n",
      "43\n",
      "3\n"
     ]
    }
   ],
   "source": [
    "# finditer函数使用\n",
    "it = re.finditer(r\"\\d+\",\"12a32bc43jf3\")\n",
    "for match in it:\n",
    "    print (match.group())"
   ]
  },
  {
   "cell_type": "code",
   "execution_count": 7,
   "metadata": {},
   "outputs": [
    {
     "name": "stdout",
     "output_type": "stream",
     "text": [
      "['123', '456']\n",
      "['88', '12']\n"
     ]
    }
   ],
   "source": [
    "# findall函数使用\n",
    "pattern = re.compile(r'\\d+')   # 查找数字\n",
    "result1 = pattern.findall('runoob 123 google 456')\n",
    "result2 = pattern.findall('run88oob123google456', 0, 10)\n",
    "print(result1)\n",
    "print(result2)"
   ]
  },
  {
   "cell_type": "code",
   "execution_count": 8,
   "metadata": {},
   "outputs": [
    {
     "name": "stdout",
     "output_type": "stream",
     "text": [
      "<th>西北工业大学</th><td>计算机学院</td>\n",
      "西北工业大学\n",
      "计算机学院\n"
     ]
    }
   ],
   "source": [
    "content = '''<tr><th>西北工业大学</th><td>计算机学院</td></tr>'''\n",
    "# 获取tr中的内容\n",
    "pattern_tr = r\"<tr>(.*?)</tr>\"\n",
    "content_tr = re.findall(pattern_tr, content, re.S | re.M)\n",
    "for tr in content_tr:\n",
    "    print(tr)\n",
    "\n",
    "# 获取th中的内容\n",
    "pattern_th = r\"<th>(.*?)</th>\"\n",
    "content_th = re.findall(pattern_th, tr, re.S | re.M)\n",
    "for th in content_th:\n",
    "    print(th)\n",
    "\n",
    "# 获取td中的内容\n",
    "pattern_td = r\"<td>(.*?)</td>\"\n",
    "content_td = re.findall(pattern_td, tr, re.S | re.M)\n",
    "for td in content_td:\n",
    "    print(td)"
   ]
  },
  {
   "cell_type": "code",
   "execution_count": 9,
   "metadata": {},
   "outputs": [
    {
     "name": "stdout",
     "output_type": "stream",
     "text": [
      "西北工业大学\n",
      "西北工业大学计算机学院\n",
      "http://www.nwpu.edu.cn/\n",
      "https://jsj.nwpu.edu.cn/\n"
     ]
    }
   ],
   "source": [
    "content = '''\n",
    "<td>\n",
    "<a href=\"http://www.nwpu.edu.cn/\">西北工业大学</a>\n",
    "<a href=\"https://jsj.nwpu.edu.cn/\">西北工业大学计算机学院</a>\n",
    "</td>\n",
    "'''\n",
    "# 获取<a href></a>之间的内容\n",
    "result_pattern = r'<a .*?>(.*?)</a>'\n",
    "results = re.findall(result_pattern, content, re.S|re.M)\n",
    "for result in results:\n",
    "    print(result)\n",
    "\n",
    "# 获取所有<a href></a>之间的url\n",
    "url_pattern = r'href=\"(.*?)\"'\n",
    "urls = re.findall(url_pattern, content, re.I|re.S|re.M)\n",
    "for url in urls:\n",
    "    print(url)"
   ]
  },
  {
   "cell_type": "code",
   "execution_count": null,
   "metadata": {},
   "outputs": [],
   "source": []
  }
 ],
 "metadata": {
  "kernelspec": {
   "display_name": "Python 3",
   "language": "python",
   "name": "python3"
  },
  "language_info": {
   "codemirror_mode": {
    "name": "ipython",
    "version": 3
   },
   "file_extension": ".py",
   "mimetype": "text/x-python",
   "name": "python",
   "nbconvert_exporter": "python",
   "pygments_lexer": "ipython3",
   "version": "3.6.5"
  }
 },
 "nbformat": 4,
 "nbformat_minor": 2
}
