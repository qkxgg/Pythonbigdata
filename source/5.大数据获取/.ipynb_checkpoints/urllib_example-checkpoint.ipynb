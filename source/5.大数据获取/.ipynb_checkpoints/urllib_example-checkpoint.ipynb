{
 "cells": [
  {
   "cell_type": "code",
   "execution_count": 5,
   "metadata": {},
   "outputs": [
    {
     "name": "stdout",
     "output_type": "stream",
     "text": [
      "<html>\r\n",
      "<head>\r\n",
      "\t<script>\r\n",
      "\t\tlocation.replace(location.href.replace(\"https://\",\"http://\"));\r\n",
      "\t</script>\r\n",
      "</head>\r\n",
      "<body>\r\n",
      "\t<noscript><meta http-equiv=\"refresh\" content=\"0;url=http://www.baidu.com/\"></noscript>\r\n",
      "</body>\r\n",
      "</html>\n"
     ]
    }
   ],
   "source": [
    "#encoding=utf-8\n",
    "from urllib import request,parse\n",
    "\n",
    "#例子1：获取百度首页\n",
    "response=request.urlopen(\"https://www.baidu.com/\")\n",
    "print(response.read().decode(\"utf-8\"))"
   ]
  },
  {
   "cell_type": "code",
   "execution_count": 6,
   "metadata": {},
   "outputs": [
    {
     "name": "stdout",
     "output_type": "stream",
     "text": [
      "<class 'http.client.HTTPResponse'>\n"
     ]
    }
   ],
   "source": [
    "#显示response的类型\n",
    "print(type(response))"
   ]
  },
  {
   "cell_type": "code",
   "execution_count": 7,
   "metadata": {},
   "outputs": [
    {
     "name": "stdout",
     "output_type": "stream",
     "text": [
      "200\n",
      "[('Accept-Ranges', 'bytes'), ('Cache-Control', 'no-cache'), ('Content-Length', '227'), ('Content-Type', 'text/html'), ('Date', 'Wed, 13 Nov 2019 17:19:58 GMT'), ('P3p', 'CP=\" OTI DSP COR IVA OUR IND COM \"'), ('P3p', 'CP=\" OTI DSP COR IVA OUR IND COM \"'), ('Pragma', 'no-cache'), ('Server', 'BWS/1.1'), ('Set-Cookie', 'BD_NOT_HTTPS=1; path=/; Max-Age=300'), ('Set-Cookie', 'BIDUPSID=0DFBB8C02BC1622797334B64E838082C; expires=Thu, 31-Dec-37 23:55:55 GMT; max-age=2147483647; path=/; domain=.baidu.com'), ('Set-Cookie', 'PSTM=1573665598; expires=Thu, 31-Dec-37 23:55:55 GMT; max-age=2147483647; path=/; domain=.baidu.com'), ('Set-Cookie', 'BAIDUID=0DFBB8C02BC162274143334189E3798D:FG=1; max-age=31536000; expires=Thu, 12-Nov-20 17:19:58 GMT; domain=.baidu.com; path=/; version=1; comment=bd'), ('Strict-Transport-Security', 'max-age=0'), ('Traceid', '1573665598028832205814053279562566489192'), ('X-Ua-Compatible', 'IE=Edge,chrome=1'), ('Connection', 'close')]\n",
      "BWS/1.1\n"
     ]
    }
   ],
   "source": [
    "#显示response的状态及头信息\n",
    "print(response.status)\n",
    "print(response.getheaders())\n",
    "print(response.getheader('Server'))"
   ]
  },
  {
   "cell_type": "code",
   "execution_count": 8,
   "metadata": {},
   "outputs": [
    {
     "name": "stdout",
     "output_type": "stream",
     "text": [
      "{\n",
      "  \"args\": {}, \n",
      "  \"data\": \"\", \n",
      "  \"files\": {}, \n",
      "  \"form\": {\n",
      "    \"name\": \"Germey\"\n",
      "  }, \n",
      "  \"headers\": {\n",
      "    \"Accept-Encoding\": \"identity\", \n",
      "    \"Content-Length\": \"11\", \n",
      "    \"Content-Type\": \"application/x-www-form-urlencoded\", \n",
      "    \"Host\": \"httpbin.org\", \n",
      "    \"User-Agent\": \"Mozilla/4.0(compatible; MSIE 5.5; Windows NT)\"\n",
      "  }, \n",
      "  \"json\": null, \n",
      "  \"origin\": \"61.150.43.58, 61.150.43.58\", \n",
      "  \"url\": \"https://httpbin.org/post\"\n",
      "}\n",
      "\n"
     ]
    }
   ],
   "source": [
    "#例子2：使用Request\n",
    "url = \"http://httpbin.org/post\"\n",
    "headers = {\n",
    "    \"User-Agent\":\"Mozilla/4.0(compatible; MSIE 5.5; Windows NT)\",\n",
    "    \"Host\" : \"httpbin.org\"\n",
    "}\n",
    "di = {\"name\": \"Germey\"}\n",
    "data = bytes(parse.urlencode(di), encoding=\"utf-8\")\n",
    "req = request.Request(url=url,data=data,headers=headers,method=\"POST\")\n",
    "response = request.urlopen(req)\n",
    "print(response.read().decode(\"utf-8\"))\n"
   ]
  },
  {
   "cell_type": "code",
   "execution_count": 9,
   "metadata": {},
   "outputs": [
    {
     "name": "stdout",
     "output_type": "stream",
     "text": [
      "[Errno 11004] getaddrinfo failed\n"
     ]
    }
   ],
   "source": [
    "#例子3：处理异常--没有对应网址\n",
    "from urllib import request,error\n",
    "try:\n",
    "    response = request.urlopen(\"http://www.nwpuzx.com/\")\n",
    "    print(response.status)\n",
    "except error.URLError as ex:\n",
    "    print(ex.reason)"
   ]
  },
  {
   "cell_type": "code",
   "execution_count": 10,
   "metadata": {},
   "outputs": [
    {
     "name": "stdout",
     "output_type": "stream",
     "text": [
      "Not Found\n",
      "404\n",
      "Date: Wed, 13 Nov 2019 17:32:11 GMT\n",
      "Content-Type: text/html\n",
      "Transfer-Encoding: chunked\n",
      "Connection: close\n",
      "Set-Cookie: __cfduid=d900acfc1061fa55cbea44d34158a40541573666331; expires=Thu, 12-Nov-20 17:32:11 GMT; path=/; domain=.pydata.org; HttpOnly\n",
      "CF-Cache-Status: DYNAMIC\n",
      "Expect-CT: max-age=604800, report-uri=\"https://report-uri.cloudflare.com/cdn-cgi/beacon/expect-ct\"\n",
      "Server: cloudflare\n",
      "CF-RAY: 53527bc97b779953-LAX\n",
      "\n",
      "\n"
     ]
    }
   ],
   "source": [
    "#例子4:处理异常--找不到网页\n",
    "from urllib import request,error\n",
    "try :\n",
    "    response=request.urlopen(\"http://pandas.pydata.org/pandas-docs/stabl\")\n",
    "except error.HTTPError as ex:\n",
    "    print(ex.reason , ex.code, ex.headers, sep=\"\\n\")"
   ]
  },
  {
   "cell_type": "code",
   "execution_count": 11,
   "metadata": {},
   "outputs": [
    {
     "name": "stdout",
     "output_type": "stream",
     "text": [
      "ParseResult(scheme='http', netloc='www.cwi.nl:80', path='/%7Eguido/Python.html', params='', query='', fragment='')\n",
      "http\n",
      "80\n",
      "<bound method ParseResult.geturl of ParseResult(scheme='http', netloc='www.cwi.nl:80', path='/%7Eguido/Python.html', params='', query='', fragment='')>\n"
     ]
    }
   ],
   "source": [
    "#例子5:解析URL \n",
    "from urllib.parse import urlparse\n",
    "o = urlparse('http://www.cwi.nl:80/%7Eguido/Python.html')\n",
    "print(o)\n",
    "print(o.scheme)\n",
    "print(o.port)\n",
    "print(o.geturl)"
   ]
  },
  {
   "cell_type": "code",
   "execution_count": 12,
   "metadata": {},
   "outputs": [
    {
     "name": "stdout",
     "output_type": "stream",
     "text": [
      "{'school': ['nwpu '], ' loc ': [' shanxi']}\n"
     ]
    }
   ],
   "source": [
    "#例子6:转换数据格式\n",
    "from urllib.parse import parse_qs\n",
    "query = \"school=nwpu && loc = shanxi\"\n",
    "print(parse_qs(query))"
   ]
  },
  {
   "cell_type": "code",
   "execution_count": 13,
   "metadata": {},
   "outputs": [
    {
     "name": "stdout",
     "output_type": "stream",
     "text": [
      "http://www.baidu.com/index.html;user?a=7#comment\n"
     ]
    }
   ],
   "source": [
    "#例子7:合并URL\n",
    "from urllib.parse import urlunparse\n",
    "data = [\"http\", \"www.baidu.com\", \"index.html\", \"user\", \"a=7\", \"comment\"]\n",
    "print(urlunparse(data))"
   ]
  },
  {
   "cell_type": "code",
   "execution_count": 16,
   "metadata": {},
   "outputs": [
    {
     "name": "stdout",
     "output_type": "stream",
     "text": [
      "SplitResult(scheme='http', netloc='www.baidu.com', path='/index.html;user', query='a=7', fragment='comment')\n"
     ]
    }
   ],
   "source": [
    "#例子8:解析URL\n",
    "from urllib.parse import urlsplit\n",
    "result = urlsplit(\"http://www.baidu.com/index.html?a=7#comment\")\n",
    "print(result)"
   ]
  },
  {
   "cell_type": "code",
   "execution_count": null,
   "metadata": {},
   "outputs": [],
   "source": []
  }
 ],
 "metadata": {
  "kernelspec": {
   "display_name": "Python 3",
   "language": "python",
   "name": "python3"
  },
  "language_info": {
   "codemirror_mode": {
    "name": "ipython",
    "version": 3
   },
   "file_extension": ".py",
   "mimetype": "text/x-python",
   "name": "python",
   "nbconvert_exporter": "python",
   "pygments_lexer": "ipython3",
   "version": "3.6.2"
  }
 },
 "nbformat": 4,
 "nbformat_minor": 2
}
