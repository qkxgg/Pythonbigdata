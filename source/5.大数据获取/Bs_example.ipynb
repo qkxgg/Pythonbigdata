{
 "cells": [
  {
   "cell_type": "markdown",
   "metadata": {},
   "source": [
    "# BeautifulSoup相关属性的使用"
   ]
  },
  {
   "cell_type": "code",
   "execution_count": 1,
   "metadata": {},
   "outputs": [],
   "source": [
    "from bs4 import BeautifulSoup"
   ]
  },
  {
   "cell_type": "code",
   "execution_count": 2,
   "metadata": {},
   "outputs": [],
   "source": [
    "soup = BeautifulSoup('<b class=\"boldest\">西北工业大学</b>','lxml')"
   ]
  },
  {
   "cell_type": "code",
   "execution_count": 3,
   "metadata": {},
   "outputs": [
    {
     "name": "stdout",
     "output_type": "stream",
     "text": [
      "<class 'bs4.BeautifulSoup'>\n",
      "[document]\n"
     ]
    }
   ],
   "source": [
    "# BeautifulSoup属性\n",
    "print(type(soup))\n",
    "print(soup.name)"
   ]
  },
  {
   "cell_type": "code",
   "execution_count": 4,
   "metadata": {},
   "outputs": [
    {
     "name": "stdout",
     "output_type": "stream",
     "text": [
      "<class 'bs4.element.Tag'>\n",
      "b\n"
     ]
    }
   ],
   "source": [
    "# tag属性\n",
    "tag = soup.b\n",
    "print(type(tag))\n",
    "print(tag.name)"
   ]
  },
  {
   "cell_type": "code",
   "execution_count": 5,
   "metadata": {},
   "outputs": [
    {
     "name": "stdout",
     "output_type": "stream",
     "text": [
      "<p class=\"boldest\">西北工业大学</p>\n",
      "{'class': ['boldest']}\n"
     ]
    }
   ],
   "source": [
    "# 修改name\n",
    "tag.name = \"p\"\n",
    "print(tag)\n",
    "print(tag.attrs)"
   ]
  },
  {
   "cell_type": "code",
   "execution_count": 6,
   "metadata": {},
   "outputs": [
    {
     "name": "stdout",
     "output_type": "stream",
     "text": [
      "['boldest']\n",
      "<p class=\"nwpu\" id=\"1\">西北工业大学</p>\n",
      "<p class=\"nwpu\">西北工业大学</p>\n"
     ]
    }
   ],
   "source": [
    "# 获取class属性的值\n",
    "print(tag[\"class\"])\n",
    "# 修改class属性的值\n",
    "tag[\"class\"] = \"nwpu\"\n",
    "# 增加一个id属性\n",
    "tag[\"id\"] = \"1\"\n",
    "print(tag)\n",
    "# 删除id属性\n",
    "del tag['id']\n",
    "print(tag)"
   ]
  },
  {
   "cell_type": "code",
   "execution_count": 7,
   "metadata": {},
   "outputs": [
    {
     "name": "stdout",
     "output_type": "stream",
     "text": [
      "西北工业大学\n",
      "<class 'bs4.element.NavigableString'>\n"
     ]
    }
   ],
   "source": [
    "# NavigableString属性\n",
    "print(tag.string)\n",
    "print(type(tag.string))"
   ]
  },
  {
   "cell_type": "code",
   "execution_count": 8,
   "metadata": {},
   "outputs": [
    {
     "name": "stdout",
     "output_type": "stream",
     "text": [
      "<p class=\"nwpu\">西北工业大学计算机学院</p>\n"
     ]
    }
   ],
   "source": [
    "#  replace_with() 的使用\n",
    "tag.string.replace_with(\"西北工业大学计算机学院\")\n",
    "print(tag)"
   ]
  },
  {
   "cell_type": "code",
   "execution_count": 9,
   "metadata": {},
   "outputs": [
    {
     "name": "stdout",
     "output_type": "stream",
     "text": [
      "<class 'bs4.element.Comment'>\n",
      "I am a student of NWPU\n"
     ]
    }
   ],
   "source": [
    "# comment属性\n",
    "markup = \"<b><!--I am a student of NWPU--></b>\"\n",
    "soup = BeautifulSoup(markup,'lxml')\n",
    "comment = soup.b.string\n",
    "print(type(comment))\n",
    "print(comment)"
   ]
  },
  {
   "cell_type": "markdown",
   "metadata": {},
   "source": [
    "# 遍历文档树"
   ]
  },
  {
   "cell_type": "code",
   "execution_count": 10,
   "metadata": {},
   "outputs": [],
   "source": [
    "html_doc = \"\"\"\n",
    "<html><head><title>The Dormouse's story</title></head>\n",
    "<p class=\"title\"><b>The Dormouse's story</b></p>\n",
    "<p class=\"story\">Once upon a time there were three little sisters; and their names were\n",
    "<a href=\"http://example.com/elsie\" class=\"sister\" id=\"link1\">Elsie</a>,\n",
    "<a href=\"http://example.com/lacie\" class=\"sister\" id=\"link2\">Lacie</a> and\n",
    "<a href=\"http://example.com/tillie\" class=\"sister\" id=\"link3\">Tillie</a>;\n",
    "and they lived at the bottom of a well.</p>\n",
    "<p class=\"story\">...</p>\n",
    "\"\"\""
   ]
  },
  {
   "cell_type": "code",
   "execution_count": 11,
   "metadata": {},
   "outputs": [],
   "source": [
    "from bs4 import BeautifulSoup\n",
    "import re\n",
    "soup = BeautifulSoup(html_doc,'lxml')"
   ]
  },
  {
   "cell_type": "code",
   "execution_count": 12,
   "metadata": {},
   "outputs": [
    {
     "name": "stdout",
     "output_type": "stream",
     "text": [
      "<head><title>The Dormouse's story</title></head>\n",
      "[<title>The Dormouse's story</title>]\n",
      "<title>The Dormouse's story</title>\n",
      "[\"The Dormouse's story\"]\n",
      "The Dormouse's story\n"
     ]
    }
   ],
   "source": [
    "# contents和children\n",
    "head_tag = soup.head\n",
    "print(head_tag)\n",
    "print(head_tag.contents)\n",
    "\n",
    "title_tag = head_tag.contents[0]\n",
    "print(title_tag)\n",
    "print(title_tag.contents)\n",
    "\n",
    "for child in title_tag.children:\n",
    "    print(child)"
   ]
  },
  {
   "cell_type": "code",
   "execution_count": 13,
   "metadata": {},
   "outputs": [
    {
     "name": "stdout",
     "output_type": "stream",
     "text": [
      "<class 'generator'>\n",
      "<title>The Dormouse's story</title>\n",
      "The Dormouse's story\n",
      "<head><title>The Dormouse's story</title></head>\n",
      "<class 'bs4.BeautifulSoup'>\n",
      "None\n"
     ]
    }
   ],
   "source": [
    "# descendants\n",
    "print(type(head_tag.descendants))\n",
    "for child in head_tag.descendants:\n",
    "    print(child)\n",
    "\n",
    "\n",
    "# parent\n",
    "print(title_tag.parent)\n",
    "# BeautifulSoup对象的parent属性是None。\n",
    "html_tag = soup.html\n",
    "print(type(html_tag.parent))\n",
    "print(soup.parent)"
   ]
  },
  {
   "cell_type": "code",
   "execution_count": 14,
   "metadata": {},
   "outputs": [
    {
     "name": "stdout",
     "output_type": "stream",
     "text": [
      "<a class=\"sister\" href=\"http://example.com/elsie\" id=\"link1\">Elsie</a>\n",
      "p\n",
      "body\n",
      "html\n",
      "[document]\n"
     ]
    }
   ],
   "source": [
    "# parents：遍历<a>便签到根节点的所有节点。\n",
    "link = soup.a\n",
    "print(link)\n",
    "for parent in link.parents:\n",
    "    if parent is None:\n",
    "        print(parent)\n",
    "    else:\n",
    "        print(parent.name)"
   ]
  },
  {
   "cell_type": "code",
   "execution_count": 21,
   "metadata": {},
   "outputs": [
    {
     "name": "stdout",
     "output_type": "stream",
     "text": [
      "<c>text2</c>\n",
      "<b>text1</b>\n",
      "None\n",
      "None\n"
     ]
    }
   ],
   "source": [
    "# next_sibling和previous_sibling\n",
    "sibling_soup = BeautifulSoup(\"<a><b>text1</b><c>text2</c></b></a>\",'lxml')\n",
    "print(sibling_soup.b.next_sibling)\n",
    "print(sibling_soup.c.previous_sibling)\n",
    "\n",
    "print(sibling_soup.b.previous_sibling)\n",
    "print(sibling_soup.c.next_sibling)"
   ]
  },
  {
   "cell_type": "code",
   "execution_count": 15,
   "metadata": {
    "scrolled": true
   },
   "outputs": [
    {
     "name": "stdout",
     "output_type": "stream",
     "text": [
      "',\\n'\n",
      "<a class=\"sister\" href=\"http://example.com/lacie\" id=\"link2\">Lacie</a>\n",
      "' and\\n'\n",
      "<a class=\"sister\" href=\"http://example.com/tillie\" id=\"link3\">Tillie</a>\n",
      "';\\nand they lived at the bottom of a well.'\n",
      "' and\\n'\n",
      "<a class=\"sister\" href=\"http://example.com/lacie\" id=\"link2\">Lacie</a>\n",
      "',\\n'\n",
      "<a class=\"sister\" href=\"http://example.com/elsie\" id=\"link1\">Elsie</a>\n",
      "'Once upon a time there were three little sisters; and their names were\\n'\n"
     ]
    }
   ],
   "source": [
    "# next_siblings和previous_siblings\n",
    "for sibling in soup.a.next_siblings:\n",
    "    print(repr(sibling))\n",
    "for sibling in soup.find(id=\"link3\").previous_siblings:\n",
    "    print(repr(sibling))"
   ]
  },
  {
   "cell_type": "markdown",
   "metadata": {},
   "source": [
    "# 搜索文档树"
   ]
  },
  {
   "cell_type": "code",
   "execution_count": 16,
   "metadata": {},
   "outputs": [
    {
     "name": "stdout",
     "output_type": "stream",
     "text": [
      "[<a class=\"sister\" href=\"http://example.com/elsie\" id=\"link1\">Elsie</a>, <a class=\"sister\" href=\"http://example.com/lacie\" id=\"link2\">Lacie</a>, <a class=\"sister\" href=\"http://example.com/tillie\" id=\"link3\">Tillie</a>]\n",
      "[<a class=\"sister\" href=\"http://example.com/elsie\" id=\"link1\">Elsie</a>, <a class=\"sister\" href=\"http://example.com/lacie\" id=\"link2\">Lacie</a>, <a class=\"sister\" href=\"http://example.com/tillie\" id=\"link3\">Tillie</a>]\n",
      "[<title>The Dormouse's story</title>]\n",
      "[]\n",
      "['Elsie']\n",
      "['Elsie', 'Lacie', 'Tillie']\n",
      "[\"The Dormouse's story\", \"The Dormouse's story\"]\n"
     ]
    }
   ],
   "source": [
    "# find_all()函数使用\n",
    "# 传入name属性\n",
    "print(soup.find_all(name='a'))\n",
    "\n",
    "# 传入attrs属性\n",
    "print(soup.find_all(attrs={'class','sister'}))\n",
    "\n",
    "# 传入recursive属性\n",
    "# 在所有子节点中查找名为title的所有子节点\n",
    "print(soup.find_all(\"title\"))\n",
    "# 在所有直接子节点中查找名为title的所有子节点\n",
    "print(soup.html.find_all(\"title\", recursive=False))\n",
    "\n",
    "# 传入text属性\n",
    "print(soup.find_all(text=\"Elsie\"))\n",
    "print(soup.find_all(text=[\"Tillie\", \"Elsie\", \"Lacie\"]))\n",
    "print(soup.find_all(text=re.compile(\"Dormouse\")))"
   ]
  },
  {
   "cell_type": "code",
   "execution_count": 17,
   "metadata": {},
   "outputs": [
    {
     "name": "stdout",
     "output_type": "stream",
     "text": [
      "[\"The Dormouse's story\", \"The Dormouse's story\", 'Elsie', 'Lacie', 'Tillie', '...']\n"
     ]
    }
   ],
   "source": [
    "# 子节点内容与其父节点内容一致\n",
    "def is_the_only_string_within_a_tag(s):\n",
    "    return (s == s.parent.string)\n",
    "print(soup.find_all(text=is_the_only_string_within_a_tag))"
   ]
  },
  {
   "cell_type": "code",
   "execution_count": 18,
   "metadata": {},
   "outputs": [
    {
     "name": "stdout",
     "output_type": "stream",
     "text": [
      "<p class=\"title\"><b>The Dormouse's story</b></p>\n",
      "<class 'bs4.element.Tag'>\n",
      "[<p class=\"title\"><b>The Dormouse's story</b></p>]\n"
     ]
    }
   ],
   "source": [
    "# find()函数的使用\n",
    "print(soup.find('p'))\n",
    "print(type(soup.find('p')))\n",
    "\n",
    "# 在find_all()函数中使用limit参数\n",
    "print(soup.find_all('p', limit=1))"
   ]
  },
  {
   "cell_type": "code",
   "execution_count": 19,
   "metadata": {},
   "outputs": [
    {
     "name": "stdout",
     "output_type": "stream",
     "text": [
      "None\n",
      "[]\n"
     ]
    }
   ],
   "source": [
    "# 比较二者对空值的处理\n",
    "print(soup.find(\"NWPU\"))\n",
    "print(soup.find_all(\"NWPU\"))"
   ]
  },
  {
   "cell_type": "markdown",
   "metadata": {},
   "source": [
    "# 利用Beautiful Soup分析豆瓣电影榜"
   ]
  },
  {
   "cell_type": "code",
   "execution_count": 20,
   "metadata": {},
   "outputs": [
    {
     "name": "stdout",
     "output_type": "stream",
     "text": [
      "{' 地 久 天 长 ': 7.9, ' 绿 皮 书 ': 8.9, ' 孟 买 酒 店 ': 8.4, ' 调 音 师 ': 8.3, ' 雪 暴 ': 6.2, ' 我 们 ': 6.5, ' 海 市 蜃 楼 ': 7.8, ' 五 尺 天 涯 ': 8.0, ' 我 的 一 级 兄 弟 ': 8.2, ' 反 贪 风 暴 4 ': 6.0}\n"
     ]
    }
   ],
   "source": [
    "from bs4 import BeautifulSoup\n",
    "from lxml import etree\n",
    "import re\n",
    "html = etree.parse(r\"data\\豆瓣电影排行榜.html\", etree.HTMLParser())\n",
    "html = etree.tostring(html).decode(\"utf-8\")\n",
    "soup = BeautifulSoup(html, 'lxml')\n",
    "# 获取所有电影\n",
    "films = soup.find_all(name='div', class_='pl2')\n",
    "# 获取所有的电影名称和评分,将结果保存在一个字典中\n",
    "result = {}\n",
    "#  遍历films列表，其中的每一个元素都是一个Tag对象\n",
    "for film in films:\n",
    "    # 将获取到的迭代器转化为list，并将list中的第一个元素转化为字符串形式\n",
    "    string = str(list(film.find('a', class_='').children)[0])\n",
    "    # 利用正则表达式将string中的电影名提取出来\n",
    "    film_name = re.sub(r'[\\r\\n\\s/]*', ' ',  string)\n",
    "    # 获取电影评分\n",
    "    star_div = film.find(name='div', class_='star clearfix')\n",
    "    star_num_div = film.find(name='div', class_='star clearfix')\n",
    "    star_num = star_num_div.find(name='span', class_='rating_nums').string\n",
    "    result[film_name] = float(str(star_num))\n",
    "print(result)"
   ]
  },
  {
   "cell_type": "code",
   "execution_count": null,
   "metadata": {},
   "outputs": [],
   "source": []
  },
  {
   "cell_type": "code",
   "execution_count": null,
   "metadata": {},
   "outputs": [],
   "source": []
  }
 ],
 "metadata": {
  "kernelspec": {
   "display_name": "Python 3",
   "language": "python",
   "name": "python3"
  },
  "language_info": {
   "codemirror_mode": {
    "name": "ipython",
    "version": 3
   },
   "file_extension": ".py",
   "mimetype": "text/x-python",
   "name": "python",
   "nbconvert_exporter": "python",
   "pygments_lexer": "ipython3",
   "version": "3.6.5"
  }
 },
 "nbformat": 4,
 "nbformat_minor": 2
}
