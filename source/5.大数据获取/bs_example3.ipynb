{
 "cells": [
  {
   "cell_type": "code",
   "execution_count": 1,
   "metadata": {},
   "outputs": [
    {
     "name": "stdout",
     "output_type": "stream",
     "text": [
      "{' 地 久 天 长 ': 7.9, ' 绿 皮 书 ': 8.9, ' 孟 买 酒 店 ': 8.4, ' 调 音 师 ': 8.3, ' 雪 暴 ': 6.2, ' 我 们 ': 6.5, ' 海 市 蜃 楼 ': 7.8, ' 五 尺 天 涯 ': 8.0, ' 我 的 一 级 兄 弟 ': 8.2, ' 反 贪 风 暴 4 ': 6.0}\n"
     ]
    }
   ],
   "source": [
    "#encoding=utf-8\n",
    "from bs4 import BeautifulSoup\n",
    "from lxml import etree\n",
    "import re\n",
    "\n",
    "html = etree.parse(\"data\\豆瓣电影排行榜.html\", etree.HTMLParser())\n",
    "html = etree.tostring(html).decode(\"utf-8\")\n",
    "soup = BeautifulSoup(html, 'lxml')\n",
    "## 获取所有电影\n",
    "films = soup.find_all(name='div', class_='pl2')\n",
    "## 获取所有的电影名称和评分,将结果保存在一个字典中\n",
    "result = {}\n",
    "##  遍历films列表，其中的每一个元素都是一个Tag对象\n",
    "for film in films:\n",
    "    ## 将获取到的迭代器转化为list，并将list中的第一个元素转化为字符串形式\n",
    "    string = str(list(film.find('a', class_='').children)[0])\n",
    "    ## 利用正则表达式将string中的电影名提取出来\n",
    "    film_name = re.sub(r'[\\r\\n\\s/]*' ,' ',  string)\n",
    "    ## 获取电影评分\n",
    "    star_div = film.find(name='div', class_='star clearfix')\n",
    "    star_num_div = film.find(name='div', class_='star clearfix')\n",
    "    star_num = star_num_div.find(name='span', class_='rating_nums').string\n",
    "    result[film_name] = float(str(star_num))\n",
    "print(result)"
   ]
  },
  {
   "cell_type": "code",
   "execution_count": null,
   "metadata": {},
   "outputs": [],
   "source": []
  }
 ],
 "metadata": {
  "kernelspec": {
   "display_name": "Python 3",
   "language": "python",
   "name": "python3"
  },
  "language_info": {
   "codemirror_mode": {
    "name": "ipython",
    "version": 3
   },
   "file_extension": ".py",
   "mimetype": "text/x-python",
   "name": "python",
   "nbconvert_exporter": "python",
   "pygments_lexer": "ipython3",
   "version": "3.6.5"
  }
 },
 "nbformat": 4,
 "nbformat_minor": 2
}
