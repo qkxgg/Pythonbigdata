{
 "cells": [
  {
   "cell_type": "code",
   "execution_count": 2,
   "metadata": {},
   "outputs": [
    {
     "name": "stdout",
     "output_type": "stream",
     "text": [
      "<!DOCTYPE html PUBLIC \"-//W3C//DTD HTML 4.0 Transitional//EN\" \"http://www.w3.org/TR/REC-html40/loose.dtd\">\n",
      "<html>&#13;\n",
      "\t<head>&#13;\n",
      "\t\t<meta http-equiv=\"Content-Type\" content=\"text/html; charset=gb2312\"/>&#13;\n",
      "\t\t<title>&#35199;&#21271;&#24037;&#19994;&#22823;&#23398;</title>&#13;\n",
      "\t</head> &#13;\n",
      "&#13;\n",
      "\t<body>&#13;\n",
      "\t\t<p>&#35199;&#21271;&#24037;&#19994;&#22823;&#23398;&#20301;&#20110;&#38485;&#35199;&#30465;&#35199;&#23433;&#24066;&#12290;</p>&#13;\n",
      "\t\t<b>&#13;\n",
      "\t\t\t</b><p class=\"p1\">&#13;\n",
      "\t\t\t\t<a href=\"http://www.nwpu.edu.cn\">&#35199;&#21271;&#24037;&#19994;&#22823;&#23398;&#39318;&#39029;</a>&#13;\n",
      "\t\t\t</p>&#13;\n",
      "\t\t\t<p class=\"p2\">&#13;\n",
      "\t\t\t\t<a href=\"http://zsb.nwpu.edu.cn\">&#35199;&#21271;&#24037;&#19994;&#22823;&#23398;&#25307;&#29983;&#21150;</a>&#13;\n",
      "\t\t\t</p>\t\t\t&#13;\n",
      "\t\t&#13;\n",
      "\t</body>&#13;\n",
      "</html>\n",
      "[<Element html at 0x27272559688>, <Element head at 0x272725594c8>, <Element meta at 0x27272559288>, <Element title at 0x272725597c8>, <Element body at 0x27272559808>, <Element p at 0x27272559888>, <Element b at 0x272725598c8>, <Element p at 0x27272559908>, <Element a at 0x27272559948>, <Element p at 0x27272559848>, <Element a at 0x27272559988>]\n",
      "[<Element p at 0x27272559888>, <Element p at 0x27272559908>, <Element p at 0x27272559848>]\n",
      "[<Element a at 0x27272559948>, <Element a at 0x27272559988>]\n",
      "['p1']\n",
      "['西北工业大学首页']\n",
      "['http://www.nwpu.edu.cn', 'http://zsb.nwpu.edu.cn']\n"
     ]
    }
   ],
   "source": [
    "from lxml import etree\n",
    "\n",
    "# 读取html内容\n",
    "html = etree.parse(r\"data/Xpathexample.html\", etree.HTMLParser())\n",
    "result = etree.tostring(html)\n",
    "print(result.decode(\"utf-8\"))\n",
    "\n",
    "# 获取所有节点\n",
    "allnodes = html.xpath(\"//*\")\n",
    "print(allnodes)\n",
    "\n",
    "# 获取指定节点\n",
    "all_p = html.xpath(\"//p\")\n",
    "print(all_p)\n",
    "\n",
    "# 获取子节点\n",
    "child_a = html.xpath(\"//p/a\")\n",
    "print(child_a)\n",
    "\n",
    "# 获取父节点\n",
    "parent_node = html.xpath('//a[@href=\"http://www.nwpu.edu.cn\"]//../@class')\n",
    "print(parent_node)\n",
    "\n",
    "# 获取节点文本信息\n",
    "content = html.xpath('//p/a[@href=\"http://www.nwpu.edu.cn\"]/text()')\n",
    "print(content)\n",
    "\n",
    "# 获取超链接\n",
    "urls = html.xpath(\"//p/a/@href\")\n",
    "print(urls)"
   ]
  },
  {
   "cell_type": "code",
   "execution_count": null,
   "metadata": {},
   "outputs": [],
   "source": []
  }
 ],
 "metadata": {
  "kernelspec": {
   "display_name": "Python 3",
   "language": "python",
   "name": "python3"
  },
  "language_info": {
   "codemirror_mode": {
    "name": "ipython",
    "version": 3
   },
   "file_extension": ".py",
   "mimetype": "text/x-python",
   "name": "python",
   "nbconvert_exporter": "python",
   "pygments_lexer": "ipython3",
   "version": "3.6.5"
  }
 },
 "nbformat": 4,
 "nbformat_minor": 2
}
